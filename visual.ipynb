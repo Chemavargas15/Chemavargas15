{
 "cells": [
  {
   "cell_type": "code",
   "execution_count": 89,
   "id": "471e19dd-504e-4ba4-92fe-5dacedd2c569",
   "metadata": {},
   "outputs": [
    {
     "name": "stderr",
     "output_type": "stream",
     "text": [
      "2023-09-15 08:45:19.544 \n",
      "  \u001b[33m\u001b[1mWarning:\u001b[0m to view this Streamlit app on a browser, run it with the following\n",
      "  command:\n",
      "\n",
      "    streamlit run C:\\Users\\CAleman\\AppData\\Local\\Packages\\PythonSoftwareFoundation.Python.3.10_qbz5n2kfra8p0\\LocalCache\\local-packages\\Python310\\site-packages\\ipykernel_launcher.py [ARGUMENTS]\n"
     ]
    },
    {
     "ename": "ImportError",
     "evalue": "Missing optional dependency 'openpyxl'.  Use pip or conda to install openpyxl.",
     "output_type": "error",
     "traceback": [
      "\u001b[1;31m---------------------------------------------------------------------------\u001b[0m",
      "\u001b[1;31mModuleNotFoundError\u001b[0m                       Traceback (most recent call last)",
      "File \u001b[1;32m~\\AppData\\Local\\Packages\\PythonSoftwareFoundation.Python.3.10_qbz5n2kfra8p0\\LocalCache\\local-packages\\Python310\\site-packages\\pandas\\compat\\_optional.py:141\u001b[0m, in \u001b[0;36mimport_optional_dependency\u001b[1;34m(name, extra, errors, min_version)\u001b[0m\n\u001b[0;32m    140\u001b[0m \u001b[39mtry\u001b[39;00m:\n\u001b[1;32m--> 141\u001b[0m     module \u001b[39m=\u001b[39m importlib\u001b[39m.\u001b[39;49mimport_module(name)\n\u001b[0;32m    142\u001b[0m \u001b[39mexcept\u001b[39;00m \u001b[39mImportError\u001b[39;00m:\n",
      "File \u001b[1;32mC:\\Program Files\\WindowsApps\\PythonSoftwareFoundation.Python.3.10_3.10.3056.0_x64__qbz5n2kfra8p0\\lib\\importlib\\__init__.py:126\u001b[0m, in \u001b[0;36mimport_module\u001b[1;34m(name, package)\u001b[0m\n\u001b[0;32m    125\u001b[0m         level \u001b[39m+\u001b[39m\u001b[39m=\u001b[39m \u001b[39m1\u001b[39m\n\u001b[1;32m--> 126\u001b[0m \u001b[39mreturn\u001b[39;00m _bootstrap\u001b[39m.\u001b[39;49m_gcd_import(name[level:], package, level)\n",
      "File \u001b[1;32m<frozen importlib._bootstrap>:1050\u001b[0m, in \u001b[0;36m_gcd_import\u001b[1;34m(name, package, level)\u001b[0m\n",
      "File \u001b[1;32m<frozen importlib._bootstrap>:1027\u001b[0m, in \u001b[0;36m_find_and_load\u001b[1;34m(name, import_)\u001b[0m\n",
      "File \u001b[1;32m<frozen importlib._bootstrap>:1004\u001b[0m, in \u001b[0;36m_find_and_load_unlocked\u001b[1;34m(name, import_)\u001b[0m\n",
      "\u001b[1;31mModuleNotFoundError\u001b[0m: No module named 'openpyxl'",
      "\nDuring handling of the above exception, another exception occurred:\n",
      "\u001b[1;31mImportError\u001b[0m                               Traceback (most recent call last)",
      "\u001b[1;32mc:\\Users\\CAleman\\Stremlit\\proyecto\\visual.ipynb Celda 1\u001b[0m line \u001b[0;36m1\n\u001b[0;32m     <a href='vscode-notebook-cell:/c%3A/Users/CAleman/Stremlit/proyecto/visual.ipynb#W0sZmlsZQ%3D%3D?line=9'>10</a>\u001b[0m excel_file \u001b[39m=\u001b[39m \u001b[39m'\u001b[39m\u001b[39mENCUESTA EPS.xlsx\u001b[39m\u001b[39m'\u001b[39m \u001b[39m#Nombre archivo a importar  'xlsx' hace referencia a excel\u001b[39;00m\n\u001b[0;32m     <a href='vscode-notebook-cell:/c%3A/Users/CAleman/Stremlit/proyecto/visual.ipynb#W0sZmlsZQ%3D%3D?line=11'>12</a>\u001b[0m sheet_name \u001b[39m=\u001b[39m \u001b[39m'\u001b[39m\u001b[39mBD\u001b[39m\u001b[39m'\u001b[39m \u001b[39m#la hoja de excel que voy a importar\u001b[39;00m\n\u001b[1;32m---> <a href='vscode-notebook-cell:/c%3A/Users/CAleman/Stremlit/proyecto/visual.ipynb#W0sZmlsZQ%3D%3D?line=13'>14</a>\u001b[0m df \u001b[39m=\u001b[39m pd\u001b[39m.\u001b[39;49mread_excel(excel_file, \u001b[39m#importo el archivo excel\u001b[39;49;00m\n\u001b[0;32m     <a href='vscode-notebook-cell:/c%3A/Users/CAleman/Stremlit/proyecto/visual.ipynb#W0sZmlsZQ%3D%3D?line=14'>15</a>\u001b[0m                    sheet_name \u001b[39m=\u001b[39;49m sheet_name, \u001b[39m#le digo cual hoja necesito\u001b[39;49;00m\n\u001b[0;32m     <a href='vscode-notebook-cell:/c%3A/Users/CAleman/Stremlit/proyecto/visual.ipynb#W0sZmlsZQ%3D%3D?line=15'>16</a>\u001b[0m                    usecols \u001b[39m=\u001b[39;49m \u001b[39m'\u001b[39;49m\u001b[39mA:D\u001b[39;49m\u001b[39m'\u001b[39;49m, \u001b[39m#aqui traigo las columnas que quiero usar\u001b[39;49;00m\n\u001b[0;32m     <a href='vscode-notebook-cell:/c%3A/Users/CAleman/Stremlit/proyecto/visual.ipynb#W0sZmlsZQ%3D%3D?line=16'>17</a>\u001b[0m                    header \u001b[39m=\u001b[39;49m\u001b[39m3\u001b[39;49m) \u001b[39m#desde que fila debe empezar a tomarme la informacion *Empieza a contar desde 0*\u001b[39;00m\n\u001b[0;32m     <a href='vscode-notebook-cell:/c%3A/Users/CAleman/Stremlit/proyecto/visual.ipynb#W0sZmlsZQ%3D%3D?line=18'>19</a>\u001b[0m df_personas \u001b[39m=\u001b[39m df\u001b[39m.\u001b[39mgroupby([\u001b[39m'\u001b[39m\u001b[39mEPS\u001b[39m\u001b[39m'\u001b[39m], as_index \u001b[39m=\u001b[39m \u001b[39mFalse\u001b[39;00m)[\u001b[39m'\u001b[39m\u001b[39mEDAD PERSONA ENCUESTADA\u001b[39m\u001b[39m'\u001b[39m]\u001b[39m.\u001b[39mcount() \u001b[39m#hago un tipo de TABLA DINAMICA para agrupar los datos de una mejor manera, lo que hago aqui es que por cada EPS, me cuente la cantidad de personas encuestadas***\u001b[39;00m\n\u001b[0;32m     <a href='vscode-notebook-cell:/c%3A/Users/CAleman/Stremlit/proyecto/visual.ipynb#W0sZmlsZQ%3D%3D?line=20'>21</a>\u001b[0m df_personas2 \u001b[39m=\u001b[39m df_personas \u001b[39m#la guardo en otro dataframe (NO ES NECESARIO)\u001b[39;00m\n",
      "File \u001b[1;32m~\\AppData\\Local\\Packages\\PythonSoftwareFoundation.Python.3.10_qbz5n2kfra8p0\\LocalCache\\local-packages\\Python310\\site-packages\\pandas\\util\\_decorators.py:211\u001b[0m, in \u001b[0;36mdeprecate_kwarg.<locals>._deprecate_kwarg.<locals>.wrapper\u001b[1;34m(*args, **kwargs)\u001b[0m\n\u001b[0;32m    209\u001b[0m     \u001b[39melse\u001b[39;00m:\n\u001b[0;32m    210\u001b[0m         kwargs[new_arg_name] \u001b[39m=\u001b[39m new_arg_value\n\u001b[1;32m--> 211\u001b[0m \u001b[39mreturn\u001b[39;00m func(\u001b[39m*\u001b[39margs, \u001b[39m*\u001b[39m\u001b[39m*\u001b[39mkwargs)\n",
      "File \u001b[1;32m~\\AppData\\Local\\Packages\\PythonSoftwareFoundation.Python.3.10_qbz5n2kfra8p0\\LocalCache\\local-packages\\Python310\\site-packages\\pandas\\util\\_decorators.py:331\u001b[0m, in \u001b[0;36mdeprecate_nonkeyword_arguments.<locals>.decorate.<locals>.wrapper\u001b[1;34m(*args, **kwargs)\u001b[0m\n\u001b[0;32m    325\u001b[0m \u001b[39mif\u001b[39;00m \u001b[39mlen\u001b[39m(args) \u001b[39m>\u001b[39m num_allow_args:\n\u001b[0;32m    326\u001b[0m     warnings\u001b[39m.\u001b[39mwarn(\n\u001b[0;32m    327\u001b[0m         msg\u001b[39m.\u001b[39mformat(arguments\u001b[39m=\u001b[39m_format_argument_list(allow_args)),\n\u001b[0;32m    328\u001b[0m         \u001b[39mFutureWarning\u001b[39;00m,\n\u001b[0;32m    329\u001b[0m         stacklevel\u001b[39m=\u001b[39mfind_stack_level(),\n\u001b[0;32m    330\u001b[0m     )\n\u001b[1;32m--> 331\u001b[0m \u001b[39mreturn\u001b[39;00m func(\u001b[39m*\u001b[39margs, \u001b[39m*\u001b[39m\u001b[39m*\u001b[39mkwargs)\n",
      "File \u001b[1;32m~\\AppData\\Local\\Packages\\PythonSoftwareFoundation.Python.3.10_qbz5n2kfra8p0\\LocalCache\\local-packages\\Python310\\site-packages\\pandas\\io\\excel\\_base.py:482\u001b[0m, in \u001b[0;36mread_excel\u001b[1;34m(io, sheet_name, header, names, index_col, usecols, squeeze, dtype, engine, converters, true_values, false_values, skiprows, nrows, na_values, keep_default_na, na_filter, verbose, parse_dates, date_parser, thousands, decimal, comment, skipfooter, convert_float, mangle_dupe_cols, storage_options)\u001b[0m\n\u001b[0;32m    480\u001b[0m \u001b[39mif\u001b[39;00m \u001b[39mnot\u001b[39;00m \u001b[39misinstance\u001b[39m(io, ExcelFile):\n\u001b[0;32m    481\u001b[0m     should_close \u001b[39m=\u001b[39m \u001b[39mTrue\u001b[39;00m\n\u001b[1;32m--> 482\u001b[0m     io \u001b[39m=\u001b[39m ExcelFile(io, storage_options\u001b[39m=\u001b[39;49mstorage_options, engine\u001b[39m=\u001b[39;49mengine)\n\u001b[0;32m    483\u001b[0m \u001b[39melif\u001b[39;00m engine \u001b[39mand\u001b[39;00m engine \u001b[39m!=\u001b[39m io\u001b[39m.\u001b[39mengine:\n\u001b[0;32m    484\u001b[0m     \u001b[39mraise\u001b[39;00m \u001b[39mValueError\u001b[39;00m(\n\u001b[0;32m    485\u001b[0m         \u001b[39m\"\u001b[39m\u001b[39mEngine should not be specified when passing \u001b[39m\u001b[39m\"\u001b[39m\n\u001b[0;32m    486\u001b[0m         \u001b[39m\"\u001b[39m\u001b[39man ExcelFile - ExcelFile already has the engine set\u001b[39m\u001b[39m\"\u001b[39m\n\u001b[0;32m    487\u001b[0m     )\n",
      "File \u001b[1;32m~\\AppData\\Local\\Packages\\PythonSoftwareFoundation.Python.3.10_qbz5n2kfra8p0\\LocalCache\\local-packages\\Python310\\site-packages\\pandas\\io\\excel\\_base.py:1695\u001b[0m, in \u001b[0;36mExcelFile.__init__\u001b[1;34m(self, path_or_buffer, engine, storage_options)\u001b[0m\n\u001b[0;32m   1692\u001b[0m \u001b[39mself\u001b[39m\u001b[39m.\u001b[39mengine \u001b[39m=\u001b[39m engine\n\u001b[0;32m   1693\u001b[0m \u001b[39mself\u001b[39m\u001b[39m.\u001b[39mstorage_options \u001b[39m=\u001b[39m storage_options\n\u001b[1;32m-> 1695\u001b[0m \u001b[39mself\u001b[39m\u001b[39m.\u001b[39m_reader \u001b[39m=\u001b[39m \u001b[39mself\u001b[39;49m\u001b[39m.\u001b[39;49m_engines[engine](\u001b[39mself\u001b[39;49m\u001b[39m.\u001b[39;49m_io, storage_options\u001b[39m=\u001b[39;49mstorage_options)\n",
      "File \u001b[1;32m~\\AppData\\Local\\Packages\\PythonSoftwareFoundation.Python.3.10_qbz5n2kfra8p0\\LocalCache\\local-packages\\Python310\\site-packages\\pandas\\io\\excel\\_openpyxl.py:556\u001b[0m, in \u001b[0;36mOpenpyxlReader.__init__\u001b[1;34m(self, filepath_or_buffer, storage_options)\u001b[0m\n\u001b[0;32m    541\u001b[0m \u001b[39m@doc\u001b[39m(storage_options\u001b[39m=\u001b[39m_shared_docs[\u001b[39m\"\u001b[39m\u001b[39mstorage_options\u001b[39m\u001b[39m\"\u001b[39m])\n\u001b[0;32m    542\u001b[0m \u001b[39mdef\u001b[39;00m \u001b[39m__init__\u001b[39m(\n\u001b[0;32m    543\u001b[0m     \u001b[39mself\u001b[39m,\n\u001b[0;32m    544\u001b[0m     filepath_or_buffer: FilePath \u001b[39m|\u001b[39m ReadBuffer[\u001b[39mbytes\u001b[39m],\n\u001b[0;32m    545\u001b[0m     storage_options: StorageOptions \u001b[39m=\u001b[39m \u001b[39mNone\u001b[39;00m,\n\u001b[0;32m    546\u001b[0m ) \u001b[39m-\u001b[39m\u001b[39m>\u001b[39m \u001b[39mNone\u001b[39;00m:\n\u001b[0;32m    547\u001b[0m     \u001b[39m\"\"\"\u001b[39;00m\n\u001b[0;32m    548\u001b[0m \u001b[39m    Reader using openpyxl engine.\u001b[39;00m\n\u001b[0;32m    549\u001b[0m \n\u001b[1;32m   (...)\u001b[0m\n\u001b[0;32m    554\u001b[0m \u001b[39m    {storage_options}\u001b[39;00m\n\u001b[0;32m    555\u001b[0m \u001b[39m    \"\"\"\u001b[39;00m\n\u001b[1;32m--> 556\u001b[0m     import_optional_dependency(\u001b[39m\"\u001b[39;49m\u001b[39mopenpyxl\u001b[39;49m\u001b[39m\"\u001b[39;49m)\n\u001b[0;32m    557\u001b[0m     \u001b[39msuper\u001b[39m()\u001b[39m.\u001b[39m\u001b[39m__init__\u001b[39m(filepath_or_buffer, storage_options\u001b[39m=\u001b[39mstorage_options)\n",
      "File \u001b[1;32m~\\AppData\\Local\\Packages\\PythonSoftwareFoundation.Python.3.10_qbz5n2kfra8p0\\LocalCache\\local-packages\\Python310\\site-packages\\pandas\\compat\\_optional.py:144\u001b[0m, in \u001b[0;36mimport_optional_dependency\u001b[1;34m(name, extra, errors, min_version)\u001b[0m\n\u001b[0;32m    142\u001b[0m \u001b[39mexcept\u001b[39;00m \u001b[39mImportError\u001b[39;00m:\n\u001b[0;32m    143\u001b[0m     \u001b[39mif\u001b[39;00m errors \u001b[39m==\u001b[39m \u001b[39m\"\u001b[39m\u001b[39mraise\u001b[39m\u001b[39m\"\u001b[39m:\n\u001b[1;32m--> 144\u001b[0m         \u001b[39mraise\u001b[39;00m \u001b[39mImportError\u001b[39;00m(msg)\n\u001b[0;32m    145\u001b[0m     \u001b[39melse\u001b[39;00m:\n\u001b[0;32m    146\u001b[0m         \u001b[39mreturn\u001b[39;00m \u001b[39mNone\u001b[39;00m\n",
      "\u001b[1;31mImportError\u001b[0m: Missing optional dependency 'openpyxl'.  Use pip or conda to install openpyxl."
     ]
    }
   ],
   "source": [
    "\n",
    "import pandas as pd\n",
    "import streamlit as st\n",
    "import numpy as np \n",
    "import matplotlib.pyplot as plt\n",
    "import seaborn as sns\n",
    "import altair as alt\n",
    "from matplotlib.ticker import FuncFormatter"
   ]
  },
  {
   "cell_type": "code",
   "execution_count": 2,
   "id": "29a00b70-e3f6-46b8-8775-bda2605d0412",
   "metadata": {},
   "outputs": [],
   "source": [
    "df = pd.read_spss(\"BaseFinal.sav\")"
   ]
  },
  {
   "cell_type": "code",
   "execution_count": null,
   "id": "f8d58a65",
   "metadata": {},
   "outputs": [],
   "source": []
  },
  {
   "cell_type": "code",
   "execution_count": 3,
   "id": "de2b5c19-fabd-4fe8-8dac-e15f612bb0fe",
   "metadata": {},
   "outputs": [
    {
     "name": "stdout",
     "output_type": "stream",
     "text": [
      "The Column Header : ['nt', 'dia', 'mes', 'ciudad', 'sexo', 'edad', 'edadan', 'EDADX', 'EDADG', 'p3', 'P3G', 'p4', 'P4G', 'p5', 'p6', 'P6X', 'p7', 'P7X', 'P7ME15', 'P7ME15X', 'p8', 'p9', 'p10', 'P10X', 'P10Y', 'p11', 'P11X', 'P11Y', 'P11Z', 'p12', 'p12a', 'p13a', 'p13b', 'P13', 'P13X', 'P13Y', 'p14', 'p10p15', 'p15', 'P15X', 'P15Y', 'p16', 'P16X', 'P16Y', 'P16Z', 'p17', 'p17a', 'p18a', 'p18b', 'P18', 'P18X', 'P18Y', 'p19a', 'p19b', 'P19', 'P19X', 'P19Y', 'p20a', 'p20b', 'p20c', 'p21', 'p15p22', 'p22', 'P22X', 'P22Y', 'p23', 'P23X', 'P23Y', 'P23Z', 'p24', 'p24a', 'p25', 'P25X', 'P25Y', 'p26', 'p27', 'P27X', 'P27Y', 'p28', 'p29a', 'p29b', 'p29c', 'p29d', 'p29e', 'p29f', 'P29AX', 'P29BX', 'P29CX', 'P29DX', 'P29EX', 'P29FX', 'P29SUM', 'P29SUMX', 'p30', 'P30WP', 'p30a', 'P30AX', 'P30AY', 'p31a', 'p31b', 'p31c', 'p31d', 'p31e', 'p31f', 'p31g', 'p31h', 'p31i', 'p31j', 'p31k', 'p31l', 'p31m', 'p31n', 'P31AY', 'P31BY', 'P31CY', 'P31DY', 'P31EY', 'P31FY', 'P31GY', 'P31HY', 'P31IY', 'P31JY', 'P31KY', 'p32', 'p32a', 'p33', 'p34', 'p35', 'p36a', 'p36b', 'p36c', 'p37', 'p37bs', 'p37t', 'p38', 'p39', 'p40a1', 'p40a2', 'p40b1', 'p40b2', 'p40c1', 'p40c2', 'p40d1', 'p40d2', 'p40e1', 'p40e2', 'p40f1', 'p40f2', 'P40A1Y', 'P40B1Y', 'P40C1Y', 'P40D2Y', 'P40E2Y', 'P40F2Y', 'P40A2Y', 'P40B2Y', 'P40C2Y', 'p41', 'p42', 'P42X', 'P42Y', 'p43a', 'p43b', 'p43c', 'p43d', 'p43e', 'P43AY', 'P43BY', 'P43CY', 'P43DY', 'P43EY', 'p43f', 'p43g', 'p43h', 'p44', 'p45a', 'p45b', 'P45AY', 'P45BY', 'p45c', 'p45d', 'p45e', 'p46', 'p46p52', 'p47', 'P47X', 'p48', 'p49', 'p50', 'P50X', 'P50Y', 'p51', 'p52', 'p53a', 'p53b', 'p53c', 'p54', 'p55a', 'p55b', 'p55c', 'p56', 'p57a1', 'P57A1X', 'P57A1Y', 'p58a1', 'P58A1X', 'P58A1Y', 'p58b1', 'P58B1X', 'P58B1Y', 'p57a2', 'P57A2X', 'P57A2Y', 'P57A3', 'P57A3X', 'P57A3Y', 'p58a2', 'P58A2X', 'P58A2Y', 'p58b2', 'P58B2X', 'P58B2Y', 'p59', 'p60a1', 'P60A1X', 'P60A1Y', 'p60a2', 'P60A2X', 'P60A2Y', 'P60A3', 'P60A3X', 'P60A3Y', 'p61', 'p62', 'p63', 'p64', 'p64a', 'p65', 'P65X', 'p66a', 'P66AX', 'P66AY', 'p66b', 'P66BX', 'P66BY', 'p67a', 'p67b', 'P67', 'P67X', 'P67Y', 'GASTOS', 'ING_NETO', 'ING_BRUTO_C', 'ING_NETO_C', 'p68', 'P68X', 'P68Y', 'P68MES', 'P68MESX', 'P68MESY', 'p69a', 'P69AX', 'P69AY', 'p69b', 'P69BX', 'P69BY', 'p70', 'p71', 'p71a', 'p71b', 'p72m1lu1', 'p72m1lu2', 'p72m1lu3', 'p72m1lu4', 'p72m1lu5', 'p72m1ma1', 'p72m1ma2', 'p72m1ma3', 'p72m1ma4', 'p72m1ma5', 'p72m1mi1', 'p72m1mi2', 'p72m1mi3', 'p72m1mi4', 'p72m1mi5', 'p72m1ju1', 'p72m1ju2', 'p72m1ju3', 'p72m1ju4', 'p72m1ju5', 'p72m1vi1', 'p72m1vi2', 'p72m1vi3', 'p72m1vi4', 'p72m1vi5', 'p72m1sa1', 'p72m1sa2', 'p72m1sa3', 'p72m1sa4', 'p72m1sa5', 'p72m1do1', 'p72m1do2', 'p72m1do3', 'p72m1do4', 'p72m1do5', 'P72M1LUH', 'P72M1MAH', 'P72M1MIH', 'P72M1JUH', 'P72M1VIH', 'P72M1SAH', 'P72M1DOH', 'p72m2lu1', 'p72m2lu2', 'p72m2lu3', 'p72m2lu4', 'p72m2lu5', 'p72m2ma1', 'p72m2ma2', 'p72m2ma3', 'p72m2ma4', 'p72m2ma5', 'p72m2mi1', 'p72m2mi2', 'p72m2mi3', 'p72m2mi4', 'p72m2mi5', 'p72m2ju1', 'p72m2ju2', 'p72m2ju3', 'p72m2ju4', 'p72m2ju5', 'p72m2vi1', 'p72m2vi2', 'p72m2vi3', 'p72m2vi4', 'p72m2vi5', 'p72m2sa1', 'p72m2sa2', 'p72m2sa3', 'p72m2sa4', 'p72m2sa5', 'p72m2do1', 'p72m2do2', 'p72m2do3', 'p72m2do4', 'p72m2do5', 'P72M2LUH', 'P72M2MAH', 'P72M2MIH', 'P72M2JUH', 'P72M2VIH', 'P72M2SAH', 'P72M2DOH', 'p72m3lu1', 'p72m3lu2', 'p72m3lu3', 'p72m3lu4', 'p72m3lu5', 'p72m3ma1', 'p72m3ma2', 'p72m3ma3', 'p72m3ma4', 'p72m3ma5', 'p72m3mi1', 'p72m3mi2', 'p72m3mi3', 'p72m3mi4', 'p72m3mi5', 'p72m3ju1', 'p72m3ju2', 'p72m3ju3', 'p72m3ju4', 'p72m3ju5', 'p72m3vi1', 'p72m3vi2', 'p72m3vi3', 'p72m3vi4', 'p72m3vi5', 'p72m3sa1', 'p72m3sa2', 'p72m3sa3', 'p72m3sa4', 'p72m3sa5', 'p72m3do1', 'p72m3do2', 'p72m3do3', 'p72m3do4', 'p72m3do5', 'P72M3LUH', 'P72M3MAH', 'P72M3MIH', 'P72M3JUH', 'P72M3VIH', 'P72M3SAH', 'P72M3DOH', 'P72LU', 'P72LUX', 'P72LUY', 'P72MA', 'P72MAX', 'P72MAY', 'P72MI', 'P72MIX', 'P72MIY', 'P72JU', 'P72JUX', 'P72JUY', 'P72VI', 'P72VIX', 'P72VIY', 'P72SA', 'P72SAX', 'P72SAY', 'P72DO', 'P72DOX', 'P72DOY', 'P72HRS', 'P72HRSX', 'P72HRSY', 'p76a', 'P76AX', 'P76AY', 'P76AG', 'p76b', 'P76BX', 'P76BY', 'P76BG', 'p76c', 'P76CX', 'P76CY', 'P76CG', 'p77', 'p78a', 'p78b', 'p78c', 'p78d', 'p79', 'P79X', 'P79Y', 'p79km', 'P79KMX', 'p80', 'p80a', 'P80AX', 'P80AY', 'p80b', 'P80BX', 'P80BY', 'p82a', 'P82AY', 'p82b', 'P82BY', 'p82c', 'P82CY', 'p82d', 'P82DY', 'p82e', 'P82EY', 'p82f', 'P82FY', 'p82g', 'P82GY', 'p82h', 'p82i', 'p82j', 'p85a', 'P85AX', 'P85AY', 'P85AG', 'p85b', 'P85BX', 'P85BY', 'P85BG', 'p86a', 'P86AY', 'p86b', 'P86BY', 'p86c', 'P86CY', 'p86d', 'P86DY', 'p86e', 'p86f', 'p86g', 'p87', 'p88', 'p89a', 'p89b', 'p89c', 'p90', 'p90a', 'P90AY', 'p90b', 'P90BY', 'p90c', 'P90CY', 'p90d', 'P90DY', 'p91', 'p91a', 'P91AY', 'p91b', 'P91BY', 'p91c', 'P91CY', 'p91d', 'P91DY', 'p92a', 'P92AY', 'p92b', 'P92BY', 'p92c', 'P92CY', 'p92d', 'P92DY', 'p93', 'p94a', 'P94AY', 'p94b', 'P94BY', 'p94d', 'P94DY', 'p94c', 'P94CY', 'p95', 'p96', 'p97a', 'p97b', 'p97c', 'p98a1', 'p98a2', 'P98A2X', 'p98a3', 'p98b1', 'p98b2', 'P98B2X', 'P98B2DIA', 'P98B2SEM', 'P98B2FIN', 'P98B2MES', 'P98B2DIAG', 'P98B2SEMG', 'p98b3', 'p98c', 'p99a', 'P99AY', 'p99b', 'P99BY', 'p99c', 'P99CY', 'p99d', 'p100', 'p101a', 'P101AY', 'P101AG', 'p101b', 'P101BY', 'P101BG', 'p101c', 'P101CY', 'P101CG', 'p102a', 'P102AY', 'P102AG', 'p102b', 'P102BG', 'P102BY', 'p102c', 'P102CY', 'P102CG', 'p103', 'p104', 'p105', 'p106a', 'p106b', 'p106c', 'p107a', 'p107b', 'p107c', 'p107d', 'p107e', 'p108', 'p108a', 'P108AG', 'p108b', 'P108BG', 'p108c', 'P108CG', 'p109', 'p110', 'p110a', 'P110AG', 'p110b', 'P110BG', 'p110c', 'P110CG', 'p111a', 'P111AG', 'p111b', 'P111BG', 'p111c', 'P111CG', 'p112a', 'p112b', 'p112c', 'p112d', 'p112e', 'p112f', 'p112g', 'da1a', 'da1b', 'da1c', 'xnt', 'WPESO', 'obs1', 'obs2', 'obs3', 'obs4', 'obs5', 'obs6', 'obs7', 'obs8', 'obs9', 'obs10', 'EMPR', 'LU0', 'LU1', 'LU2', 'LU3', 'LU4', 'LU5', 'LU6', 'LU7', 'LU8', 'LU9', 'LU10', 'LU11', 'LU12', 'LU13', 'LU14', 'LU15', 'LU16', 'LU17', 'LU18', 'LU19', 'LU20', 'LU21', 'LU22', 'LU23', 'P72M1LUHx', 'P72M2LUHx', 'P72M3LUHx', 'MA0', 'MA1', 'MA2', 'MA3', 'MA4', 'MA5', 'MA6', 'MA7', 'MA8', 'MA9', 'MA10', 'MA11', 'MA12', 'MA13', 'MA14', 'MA15', 'MA16', 'MA17', 'MA18', 'MA19', 'MA20', 'MA21', 'MA22', 'MA23', 'P72M1MAHx', 'P72M2MAHx', 'P72M3MAHx', 'MI0', 'MI1', 'MI2', 'MI3', 'MI4', 'MI5', 'MI6', 'MI7', 'MI8', 'MI9', 'MI10', 'MI11', 'MI12', 'MI13', 'MI14', 'MI15', 'MI16', 'MI17', 'MI18', 'MI19', 'MI20', 'MI21', 'MI22', 'MI23', 'P72M1MIHx', 'P72M2MIHx', 'P72M3MIHx', 'JU0', 'JU1', 'JU2', 'JU3', 'JU4', 'JU5', 'JU6', 'JU7', 'JU8', 'JU9', 'JU10', 'JU11', 'JU12', 'JU13', 'JU14', 'JU15', 'JU16', 'JU17', 'JU18', 'JU19', 'JU20', 'JU21', 'JU22', 'JU23', 'P72M1JUHx', 'P72M2JUHx', 'P72M3JUHx', 'VI0', 'VI1', 'VI2', 'VI3', 'VI4', 'VI5', 'VI6', 'VI7', 'VI8', 'VI9', 'VI10', 'VI11', 'VI12', 'VI13', 'VI14', 'VI15', 'VI16', 'VI17', 'VI18', 'VI19', 'VI20', 'VI21', 'VI22', 'VI23', 'P72M1VIHx', 'P72M2VIHx', 'P72M3VIHx', 'SA0', 'SA1', 'SA2', 'SA3', 'SA4', 'SA5', 'SA6', 'SA7', 'SA8', 'SA9', 'SA10', 'SA11', 'SA12', 'SA13', 'SA14', 'SA15', 'SA16', 'SA17', 'SA18', 'SA19', 'SA20', 'SA21', 'SA22', 'SA23', 'P72M1SAHx', 'P72M2SAHx', 'P72M3SAHx', 'DO0', 'DO1', 'DO2', 'DO3', 'DO4', 'DO5', 'DO6', 'DO7', 'DO8', 'DO9', 'DO10', 'DO11', 'DO12', 'DO13', 'DO14', 'DO15', 'DO16', 'DO17', 'DO18', 'DO19', 'DO20', 'DO21', 'DO22', 'DO23', 'P72M1DOHx', 'P72M2DOHx', 'P72M3DOHx', 'P72LU2', 'P72MA2', 'P72MI2', 'P72JU2', 'P72VI2', 'P72SA2', 'P72DO2', 'P72NDIAS', 'P72NDIASX', 'P72INILU', 'P72INIMA', 'P72INIMI', 'P72INIJU', 'P72INIVI', 'P72INISA', 'P72INIDO', 'P72PEDLU', 'P72PEDMA', 'P72PEDMI', 'P72PEDJU', 'P72PEDVI', 'P72PEDSA', 'P72PEDDO', 'P72PED', 'P72PEDLUX', 'P72PEDLUY', 'P72PEDMAX', 'P72PEDMAY', 'P72PEDMIX', 'P72PEDMIY', 'P72PEDJUX', 'P72PEDJUY', 'P72PEDVIX', 'P72PEDVIY', 'P72PEDSAX', 'P72PEDSAY', 'P72PEDDOX', 'P72PEDDOY', 'P72PEDX', 'P72PEDY', 'INGPED', 'EDUCACION', 'ANTERIOR', 'RAZONES', 'PLURIACT', 'ANTIGUEDAD', 'ACTIVIDAD_AGRE', 'JEFE']\n"
     ]
    }
   ],
   "source": [
    "column_headers = list(df.columns.values)\n",
    "print(\"The Column Header :\", column_headers)"
   ]
  },
  {
   "cell_type": "code",
   "execution_count": 4,
   "id": "5dba81f5-6fe2-47fa-9208-c68c6865e96b",
   "metadata": {},
   "outputs": [],
   "source": [
    "df['dependencia'] = df['p65'].astype(int)"
   ]
  },
  {
   "cell_type": "code",
   "execution_count": 5,
   "id": "c0027906-489e-4699-884c-d20f950a145f",
   "metadata": {},
   "outputs": [],
   "source": [
    "def d(dependencia):\n",
    "    if dependencia == 0:\n",
    "        return 'Nadie'\n",
    "    else:\n",
    "        return 'tiene dependientes'"
   ]
  },
  {
   "cell_type": "code",
   "execution_count": 6,
   "id": "fc147411",
   "metadata": {},
   "outputs": [],
   "source": [
    "df['dependencia'] = df['dependencia'].apply(d)"
   ]
  },
  {
   "cell_type": "code",
   "execution_count": 7,
   "id": "d5373584",
   "metadata": {},
   "outputs": [
    {
     "data": {
      "text/plain": [
       "0      tiene dependientes\n",
       "1                   Nadie\n",
       "2      tiene dependientes\n",
       "3                   Nadie\n",
       "4                   Nadie\n",
       "              ...        \n",
       "547    tiene dependientes\n",
       "548                 Nadie\n",
       "549                 Nadie\n",
       "550    tiene dependientes\n",
       "551    tiene dependientes\n",
       "Name: dependencia, Length: 552, dtype: object"
      ]
     },
     "execution_count": 7,
     "metadata": {},
     "output_type": "execute_result"
    }
   ],
   "source": [
    "df['dependencia']"
   ]
  },
  {
   "cell_type": "code",
   "execution_count": 8,
   "id": "9ad62a56-9b17-4514-91c3-a106a9fcc12a",
   "metadata": {},
   "outputs": [],
   "source": [
    "df['dependencia'] = df['dependencia'].apply(d)"
   ]
  },
  {
   "cell_type": "code",
   "execution_count": 9,
   "id": "0901acf4-ba56-4f72-a108-148ec6b449c1",
   "metadata": {},
   "outputs": [],
   "source": [
    "df1 = df[['edad']]"
   ]
  },
  {
   "cell_type": "code",
   "execution_count": 10,
   "id": "216c4475-1ee8-4d6b-b89b-a3b988a8def8",
   "metadata": {},
   "outputs": [],
   "source": [
    "dfn1 = df['p60a1']"
   ]
  },
  {
   "cell_type": "code",
   "execution_count": 11,
   "id": "c2da709a-97e7-4baf-9be8-8d36746a99a2",
   "metadata": {},
   "outputs": [
    {
     "data": {
      "text/plain": [
       "CategoricalDtype(categories=[  350.0,   500.0,   600.0,   640.0,   700.0,   800.0,\n",
       "                    850.0,   900.0,  1000.0,  1100.0,\n",
       "                  ...\n",
       "                   8000.0,  8032.0,  8200.0,  8400.0,  8800.0,  9000.0,\n",
       "                  10000.0, 10500.0, 12000.0, 'Ns/Nr'],\n",
       ", ordered=False)"
      ]
     },
     "execution_count": 11,
     "metadata": {},
     "output_type": "execute_result"
    }
   ],
   "source": [
    "df['p60a1'].dtypes"
   ]
  },
  {
   "cell_type": "code",
   "execution_count": 12,
   "id": "e79fe0ef-c567-467c-a5f9-f1cb244718cc",
   "metadata": {},
   "outputs": [
    {
     "data": {
      "text/plain": [
       "0            Mes\n",
       "1            Mes\n",
       "2            Mes\n",
       "3      Trimestre\n",
       "4            NaN\n",
       "         ...    \n",
       "547          Mes\n",
       "548     Quincena\n",
       "549          Mes\n",
       "550          Mes\n",
       "551    Trimestre\n",
       "Name: p67b, Length: 552, dtype: category\n",
       "Categories (5, object): ['Mes', 'Quincena', 'Semana', 'Semestre', 'Trimestre']"
      ]
     },
     "execution_count": 12,
     "metadata": {},
     "output_type": "execute_result"
    }
   ],
   "source": [
    "df['p67b']"
   ]
  },
  {
   "cell_type": "code",
   "execution_count": 13,
   "id": "18ec52db-41b7-4847-854f-51f853e82c69",
   "metadata": {},
   "outputs": [],
   "source": [
    "df['p67b'] = df['p67b'].fillna('Mes')"
   ]
  },
  {
   "cell_type": "code",
   "execution_count": 14,
   "id": "cd8588d3-5658-4e76-a086-955fe42389b8",
   "metadata": {},
   "outputs": [],
   "source": [
    "def f(p67b):\n",
    "    if p67b == 'Semana':\n",
    "        return 4\n",
    "    if p67b == 'Quincena':\n",
    "        return 2\n",
    "    if p67b == 'Mes':\n",
    "        return 1\n",
    "    if p67b == 'Trimestre':\n",
    "        return 0.33 \n",
    "    else:\n",
    "        return 0.17"
   ]
  },
  {
   "cell_type": "code",
   "execution_count": 15,
   "id": "12d13aad-aafe-4c01-b8f4-0200a413eb1d",
   "metadata": {},
   "outputs": [],
   "source": [
    "df['periodo'] = df['p67b'].apply(f)"
   ]
  },
  {
   "cell_type": "code",
   "execution_count": 16,
   "id": "0abe7dfc-48c2-4d2e-aff7-7772223f6de7",
   "metadata": {},
   "outputs": [],
   "source": [
    "df['periodo'] = df['periodo'].astype(int)"
   ]
  },
  {
   "cell_type": "code",
   "execution_count": 17,
   "id": "89ee7a96-9dfb-4128-ac95-7631abecffcf",
   "metadata": {},
   "outputs": [],
   "source": [
    "df['p67a'] = df['p67a'].astype(int)"
   ]
  },
  {
   "cell_type": "code",
   "execution_count": 18,
   "id": "d47b0201-102f-498f-a9a1-7b60cd892d7e",
   "metadata": {},
   "outputs": [],
   "source": [
    "df['mantenimiento'] = df['p67a'] * df['periodo']"
   ]
  },
  {
   "cell_type": "code",
   "execution_count": 19,
   "id": "b2ad4177-a336-43ca-ab07-fe6c21e10cfe",
   "metadata": {},
   "outputs": [],
   "source": [
    "df['p66a'] = df['p66a'].astype(int)"
   ]
  },
  {
   "cell_type": "code",
   "execution_count": 20,
   "id": "ef96f3e3-fdb9-4976-883d-737078e34b1f",
   "metadata": {},
   "outputs": [],
   "source": [
    "df['p66b'] = df['p66b'].astype(int)"
   ]
  },
  {
   "cell_type": "code",
   "execution_count": 21,
   "id": "dcb93550-dd90-4091-b063-f67e3dd9a523",
   "metadata": {},
   "outputs": [],
   "source": [
    "df['gastos'] = df['mantenimiento'] + df['p66a'] + df['p66b']"
   ]
  },
  {
   "cell_type": "code",
   "execution_count": 22,
   "id": "6b1cb002-640e-4714-9b09-f25bf0c0d484",
   "metadata": {},
   "outputs": [],
   "source": [
    "def x(p60a1):\n",
    "    if p60a1 == 'Ns/Nr':\n",
    "        return 2000\n",
    "    else:\n",
    "        return p60a1"
   ]
  },
  {
   "cell_type": "code",
   "execution_count": 23,
   "id": "5c2fc3e9-fc1c-4f99-a4b5-73c4e42716dd",
   "metadata": {},
   "outputs": [],
   "source": [
    "df['ingresom'] = df['p60a1'].apply(x)"
   ]
  },
  {
   "cell_type": "code",
   "execution_count": 24,
   "id": "6bb0de89-00b5-460d-8b39-8949638d274f",
   "metadata": {},
   "outputs": [],
   "source": [
    "df['ingresor'] = df['ingresom'] - df['gastos']"
   ]
  },
  {
   "cell_type": "code",
   "execution_count": 25,
   "id": "fb1f58e5-b184-4180-92d9-b8dc0b044501",
   "metadata": {},
   "outputs": [],
   "source": [
    "df['categoria'] = df['ingresor'].apply(lambda x: 'minimo' if x < 2370 else 'medio' if x < 4740 else 'alto')"
   ]
  },
  {
   "cell_type": "code",
   "execution_count": 26,
   "id": "cc47f0f6-34ee-4421-9884-33cb8ed744a6",
   "metadata": {},
   "outputs": [
    {
     "data": {
      "text/plain": [
       "minimo    238\n",
       "medio     218\n",
       "alto       96\n",
       "Name: categoria, dtype: int64"
      ]
     },
     "execution_count": 26,
     "metadata": {},
     "output_type": "execute_result"
    }
   ],
   "source": [
    "df['categoria'].value_counts()"
   ]
  },
  {
   "cell_type": "code",
   "execution_count": 27,
   "id": "19a4950f-1f2d-4fc5-bdb7-64cadce87ad9",
   "metadata": {},
   "outputs": [],
   "source": [
    "def years_of_study(p4):\n",
    "    if p4 == 'Ninguno' or p4 == 'Primaria completa' or p4 == 'Secundaria incompleta' or p4 == 'Secundaria completa':\n",
    "        return 'Secundario'\n",
    "    else:\n",
    "        return 'Alto'"
   ]
  },
  {
   "cell_type": "code",
   "execution_count": 28,
   "id": "c8388fd5-d01a-4805-a019-aadec3341725",
   "metadata": {},
   "outputs": [],
   "source": [
    "df['years of study'] = df['p4'].apply(years_of_study)"
   ]
  },
  {
   "cell_type": "code",
   "execution_count": 29,
   "id": "63dd0bf6-f07e-43e2-8ec2-eb84d64e9a7f",
   "metadata": {},
   "outputs": [],
   "source": [
    "df.rename(columns={'years of study':'educacion'}, inplace=True)"
   ]
  },
  {
   "cell_type": "code",
   "execution_count": 30,
   "id": "e7102ae1-4764-4f81-846a-72aae87ffaf4",
   "metadata": {},
   "outputs": [
    {
     "data": {
      "text/plain": [
       "Alto          365\n",
       "Secundario    187\n",
       "Name: educacion, dtype: int64"
      ]
     },
     "execution_count": 30,
     "metadata": {},
     "output_type": "execute_result"
    }
   ],
   "source": [
    "df['educacion'].value_counts()"
   ]
  },
  {
   "cell_type": "code",
   "execution_count": 31,
   "id": "0814f59c-0157-49ee-9b70-6faa0c223258",
   "metadata": {},
   "outputs": [],
   "source": [
    "def jefe(p8):\n",
    "    if p8 == 'Jefe o jefa del hogar':\n",
    "        return 'jefe'\n",
    "    else:\n",
    "        return 'no jefe'"
   ]
  },
  {
   "cell_type": "code",
   "execution_count": 32,
   "id": "d25fc3d0-7887-4f29-b634-bec46506f1d8",
   "metadata": {},
   "outputs": [],
   "source": [
    "df['jefe'] = df['p8'].apply(jefe)"
   ]
  },
  {
   "cell_type": "code",
   "execution_count": 33,
   "id": "cf264d63-eff9-4637-9bc8-9720f9ac751b",
   "metadata": {},
   "outputs": [
    {
     "data": {
      "text/plain": [
       "no jefe    282\n",
       "jefe       270\n",
       "Name: jefe, dtype: int64"
      ]
     },
     "execution_count": 33,
     "metadata": {},
     "output_type": "execute_result"
    }
   ],
   "source": [
    "df['jefe'].value_counts()"
   ]
  },
  {
   "cell_type": "code",
   "execution_count": 34,
   "id": "31a77b4e-886c-42f4-acbe-bccaaeea4603",
   "metadata": {},
   "outputs": [],
   "source": [
    "df['anterior'] = df['p12']"
   ]
  },
  {
   "cell_type": "code",
   "execution_count": 35,
   "id": "287fa638-25fd-4536-8660-667aead46aba",
   "metadata": {},
   "outputs": [],
   "source": [
    "def asalariado(anterior):\n",
    "    if anterior ==  'Empleado' or anterior == 'Obrero' or anterior == 'Profesional independiente/ Consultor':\n",
    "        return 'asalariado'\n",
    "    else:\n",
    "        return 'no asalariado'"
   ]
  },
  {
   "cell_type": "code",
   "execution_count": 36,
   "id": "49844a99-537f-4281-9af2-97a02495a363",
   "metadata": {},
   "outputs": [],
   "source": [
    "df['anterior'] = df['anterior'].apply(asalariado)"
   ]
  },
  {
   "cell_type": "code",
   "execution_count": 37,
   "id": "d29b533e-75fa-44d3-af5c-d62a3c226638",
   "metadata": {},
   "outputs": [
    {
     "data": {
      "text/plain": [
       "asalariado       463\n",
       "no asalariado     66\n",
       "Name: anterior, dtype: int64"
      ]
     },
     "execution_count": 37,
     "metadata": {},
     "output_type": "execute_result"
    }
   ],
   "source": [
    "df['anterior'].value_counts()"
   ]
  },
  {
   "cell_type": "code",
   "execution_count": 38,
   "id": "97e3ff97-4df3-4f30-a9da-51eb97600231",
   "metadata": {},
   "outputs": [],
   "source": [
    "df['antiguedad'] = df['p27']"
   ]
  },
  {
   "cell_type": "code",
   "execution_count": 39,
   "id": "9ab2421f-8dc3-4b64-b03a-d2959ef3fba2",
   "metadata": {},
   "outputs": [],
   "source": [
    "def anti(antiguedad):\n",
    "    if antiguedad <=  12:\n",
    "        return 1\n",
    "    if antiguedad <= 24:\n",
    "        return 2\n",
    "    if antiguedad <= 33:\n",
    "        return 3\n",
    "    else:\n",
    "        return 4"
   ]
  },
  {
   "cell_type": "code",
   "execution_count": 40,
   "id": "e5c3840e-e302-4d16-9192-75f56d5b3e5f",
   "metadata": {},
   "outputs": [],
   "source": [
    "df['antiguedad'] = df['antiguedad'].apply(anti)"
   ]
  },
  {
   "cell_type": "code",
   "execution_count": 41,
   "id": "ac286f1c-0ea4-416c-b080-81d94e93d8fb",
   "metadata": {},
   "outputs": [
    {
     "data": {
      "text/plain": [
       "1    198\n",
       "2    175\n",
       "4    107\n",
       "3     72\n",
       "Name: antiguedad, dtype: int64"
      ]
     },
     "execution_count": 41,
     "metadata": {},
     "output_type": "execute_result"
    }
   ],
   "source": [
    "df['antiguedad'].value_counts()"
   ]
  },
  {
   "cell_type": "code",
   "execution_count": 42,
   "id": "3ff17806-056f-47d2-85c4-ee337fc4a591",
   "metadata": {},
   "outputs": [],
   "source": [
    "df['pluriactividad'] = df['p21']"
   ]
  },
  {
   "cell_type": "code",
   "execution_count": 43,
   "id": "74b22e39-9103-448f-8ea9-079979250715",
   "metadata": {},
   "outputs": [],
   "source": [
    "def m(pluriactividad):\n",
    "    if pluriactividad == 'Solo trabaja como delivery':\n",
    "        return 'Solo trabaja como delivery'\n",
    "    else:\n",
    "        return 'Alterna con otro trabajo y/o estudios'"
   ]
  },
  {
   "cell_type": "code",
   "execution_count": 44,
   "id": "a6c8a9a4-83de-4abb-b4b5-d9609d2d7a5e",
   "metadata": {},
   "outputs": [],
   "source": [
    "df['pluriactividad'] = df['pluriactividad'].apply(m)"
   ]
  },
  {
   "cell_type": "code",
   "execution_count": 45,
   "id": "8ff8cf50-0bbe-4808-bb68-c776112cc14a",
   "metadata": {},
   "outputs": [],
   "source": [
    "df['razones'] = df['p14']"
   ]
  },
  {
   "cell_type": "code",
   "execution_count": 46,
   "id": "23615a57-b943-4b54-95e7-9939f43f32ce",
   "metadata": {},
   "outputs": [
    {
     "data": {
      "text/plain": [
       "0                     Razones económicas/ bajos ingresos\n",
       "1                La empresa, negocio, actividad se cerró\n",
       "2      Características del trabajo (aburrido, malos h...\n",
       "3                                          Fue despedido\n",
       "4      Características del trabajo (aburrido, malos h...\n",
       "                             ...                        \n",
       "547              La empresa, negocio, actividad se cerró\n",
       "548                                        Fue despedido\n",
       "549                                   Razones personales\n",
       "550                                        Fue despedido\n",
       "551                                                  NaN\n",
       "Name: razones, Length: 552, dtype: category\n",
       "Categories (11, object): ['Cambiaron las políticas de la empresa', 'Características del trabajo (aburrido, malos ..., 'Era un empleo temporal', 'Fue despedido', ..., 'Por falta de capital o de clientes', 'Razones económicas/ bajos ingresos', 'Razones personales', 'Sigue realizando el mismo trabajo']"
      ]
     },
     "execution_count": 46,
     "metadata": {},
     "output_type": "execute_result"
    }
   ],
   "source": [
    "df['razones']"
   ]
  },
  {
   "cell_type": "code",
   "execution_count": 47,
   "id": "5b7df2d2-71a1-4ce8-b29c-62a146aade6a",
   "metadata": {},
   "outputs": [],
   "source": [
    "def z(razones):\n",
    "    if razones == 'Era un empleo temporal':\n",
    "        return 'Era un empleo temporal'\n",
    "    if razones == 'Fue despedido' or razones == 'La empresa, negocio, actividad se cerró' or razones == 'Por falta de capital o de clientes' or razones =='Fue obligado a renunciar':\n",
    "        return 'Razones de la demanda'\n",
    "    if razones == 'Razones personales':\n",
    "        return 'Razones personales'\n",
    "    if razones == 'Razones económicas/ bajos ingresos':\n",
    "        return 'Razones económicas/ bajos ingresos'\n",
    "    else:\n",
    "        return 'Renuncio'"
   ]
  },
  {
   "cell_type": "code",
   "execution_count": 48,
   "id": "ff877bdd-7a41-4517-a883-ffc29af88baa",
   "metadata": {},
   "outputs": [],
   "source": [
    "df['razones'] = df['razones'].apply(z)"
   ]
  },
  {
   "cell_type": "code",
   "execution_count": 49,
   "id": "50462221-aa9a-4f8f-90a8-01f17752b704",
   "metadata": {},
   "outputs": [
    {
     "name": "stderr",
     "output_type": "stream",
     "text": [
      "C:\\Users\\CAleman\\AppData\\Local\\Packages\\PythonSoftwareFoundation.Python.3.10_qbz5n2kfra8p0\\LocalCache\\local-packages\\Python310\\site-packages\\IPython\\lib\\pretty.py:778: FutureWarning: Index.ravel returning ndarray is deprecated; in a future version this will return a view on self.\n",
      "  output = repr(obj)\n"
     ]
    },
    {
     "data": {
      "text/plain": [
       "0      0.0\n",
       "1      0.0\n",
       "2      2.0\n",
       "3      0.0\n",
       "4      0.0\n",
       "      ... \n",
       "547    0.0\n",
       "548    NaN\n",
       "549    NaN\n",
       "550    0.0\n",
       "551    1.0\n",
       "Name: p7, Length: 552, dtype: category\n",
       "Categories (8, float64): [0.0, 1.0, 2.0, 3.0, 4.0, 5.0, 6.0, 7.0]"
      ]
     },
     "execution_count": 49,
     "metadata": {},
     "output_type": "execute_result"
    }
   ],
   "source": [
    "df['p7']"
   ]
  },
  {
   "cell_type": "code",
   "execution_count": 50,
   "id": "c37ad132-c76f-4282-a911-868f4a103e89",
   "metadata": {},
   "outputs": [],
   "source": [
    "df['p7'] = df['p7'].fillna(0)"
   ]
  },
  {
   "cell_type": "code",
   "execution_count": 51,
   "id": "2bfff484-eb63-49ec-acd0-852573764f13",
   "metadata": {},
   "outputs": [],
   "source": [
    "df['menores'] = df['p7'].astype(int)"
   ]
  },
  {
   "cell_type": "code",
   "execution_count": 52,
   "id": "a6b5709a-a308-4256-92ff-64b45acf5fb3",
   "metadata": {},
   "outputs": [
    {
     "data": {
      "text/plain": [
       "0    275\n",
       "1    155\n",
       "2     78\n",
       "3     30\n",
       "4      9\n",
       "5      3\n",
       "6      1\n",
       "7      1\n",
       "Name: menores, dtype: int64"
      ]
     },
     "execution_count": 52,
     "metadata": {},
     "output_type": "execute_result"
    }
   ],
   "source": [
    "df['menores'].value_counts()"
   ]
  },
  {
   "cell_type": "code",
   "execution_count": 53,
   "id": "a62d8d05-e325-4b9e-8b9a-63ecf030525b",
   "metadata": {},
   "outputs": [],
   "source": [
    "def t(menores):\n",
    "    if menores == 0:\n",
    "        return 'ninguno'\n",
    "    else:\n",
    "        return 'menores en el hogar'"
   ]
  },
  {
   "cell_type": "code",
   "execution_count": 54,
   "id": "e148758d-a139-46ce-8a37-24362f16bc4a",
   "metadata": {},
   "outputs": [],
   "source": [
    "df['menores'] = df['menores'].apply(t)"
   ]
  },
  {
   "cell_type": "code",
   "execution_count": 55,
   "id": "f755b703-64e9-4e56-8adf-3e9485bb894d",
   "metadata": {},
   "outputs": [],
   "source": [
    "df2 = df[['edad', 'razones','pluriactividad', 'antiguedad', 'ingresor', 'categoria', 'educacion', 'jefe','anterior','menores','dependencia']]"
   ]
  },
  {
   "cell_type": "code",
   "execution_count": 56,
   "id": "2f8ea62f-33c1-4cca-8ebe-df843c598cc7",
   "metadata": {
    "scrolled": true
   },
   "outputs": [
    {
     "data": {
      "text/html": [
       "<div>\n",
       "<style scoped>\n",
       "    .dataframe tbody tr th:only-of-type {\n",
       "        vertical-align: middle;\n",
       "    }\n",
       "\n",
       "    .dataframe tbody tr th {\n",
       "        vertical-align: top;\n",
       "    }\n",
       "\n",
       "    .dataframe thead th {\n",
       "        text-align: right;\n",
       "    }\n",
       "</style>\n",
       "<table border=\"1\" class=\"dataframe\">\n",
       "  <thead>\n",
       "    <tr style=\"text-align: right;\">\n",
       "      <th></th>\n",
       "      <th>edad</th>\n",
       "      <th>razones</th>\n",
       "      <th>pluriactividad</th>\n",
       "      <th>antiguedad</th>\n",
       "      <th>ingresor</th>\n",
       "      <th>categoria</th>\n",
       "      <th>educacion</th>\n",
       "      <th>jefe</th>\n",
       "      <th>anterior</th>\n",
       "      <th>menores</th>\n",
       "      <th>dependencia</th>\n",
       "    </tr>\n",
       "  </thead>\n",
       "  <tbody>\n",
       "    <tr>\n",
       "      <th>0</th>\n",
       "      <td>22.0</td>\n",
       "      <td>Razones económicas/ bajos ingresos</td>\n",
       "      <td>Alterna con otro trabajo y/o estudios</td>\n",
       "      <td>1</td>\n",
       "      <td>1517.0</td>\n",
       "      <td>minimo</td>\n",
       "      <td>Alto</td>\n",
       "      <td>jefe</td>\n",
       "      <td>asalariado</td>\n",
       "      <td>ninguno</td>\n",
       "      <td>tiene dependientes</td>\n",
       "    </tr>\n",
       "    <tr>\n",
       "      <th>1</th>\n",
       "      <td>25.0</td>\n",
       "      <td>Razones de la demanda</td>\n",
       "      <td>Alterna con otro trabajo y/o estudios</td>\n",
       "      <td>4</td>\n",
       "      <td>4100.0</td>\n",
       "      <td>medio</td>\n",
       "      <td>Alto</td>\n",
       "      <td>no jefe</td>\n",
       "      <td>asalariado</td>\n",
       "      <td>ninguno</td>\n",
       "      <td>tiene dependientes</td>\n",
       "    </tr>\n",
       "    <tr>\n",
       "      <th>2</th>\n",
       "      <td>24.0</td>\n",
       "      <td>Renuncio</td>\n",
       "      <td>Solo trabaja como delivery</td>\n",
       "      <td>3</td>\n",
       "      <td>3890.0</td>\n",
       "      <td>medio</td>\n",
       "      <td>Secundario</td>\n",
       "      <td>jefe</td>\n",
       "      <td>asalariado</td>\n",
       "      <td>menores en el hogar</td>\n",
       "      <td>tiene dependientes</td>\n",
       "    </tr>\n",
       "    <tr>\n",
       "      <th>3</th>\n",
       "      <td>27.0</td>\n",
       "      <td>Razones de la demanda</td>\n",
       "      <td>Alterna con otro trabajo y/o estudios</td>\n",
       "      <td>3</td>\n",
       "      <td>3300.0</td>\n",
       "      <td>medio</td>\n",
       "      <td>Alto</td>\n",
       "      <td>no jefe</td>\n",
       "      <td>asalariado</td>\n",
       "      <td>ninguno</td>\n",
       "      <td>tiene dependientes</td>\n",
       "    </tr>\n",
       "    <tr>\n",
       "      <th>4</th>\n",
       "      <td>27.0</td>\n",
       "      <td>Renuncio</td>\n",
       "      <td>Alterna con otro trabajo y/o estudios</td>\n",
       "      <td>4</td>\n",
       "      <td>3750.0</td>\n",
       "      <td>medio</td>\n",
       "      <td>Alto</td>\n",
       "      <td>no jefe</td>\n",
       "      <td>asalariado</td>\n",
       "      <td>ninguno</td>\n",
       "      <td>tiene dependientes</td>\n",
       "    </tr>\n",
       "    <tr>\n",
       "      <th>...</th>\n",
       "      <td>...</td>\n",
       "      <td>...</td>\n",
       "      <td>...</td>\n",
       "      <td>...</td>\n",
       "      <td>...</td>\n",
       "      <td>...</td>\n",
       "      <td>...</td>\n",
       "      <td>...</td>\n",
       "      <td>...</td>\n",
       "      <td>...</td>\n",
       "      <td>...</td>\n",
       "    </tr>\n",
       "    <tr>\n",
       "      <th>547</th>\n",
       "      <td>28.0</td>\n",
       "      <td>Razones de la demanda</td>\n",
       "      <td>Alterna con otro trabajo y/o estudios</td>\n",
       "      <td>4</td>\n",
       "      <td>2095.0</td>\n",
       "      <td>minimo</td>\n",
       "      <td>Alto</td>\n",
       "      <td>jefe</td>\n",
       "      <td>asalariado</td>\n",
       "      <td>ninguno</td>\n",
       "      <td>tiene dependientes</td>\n",
       "    </tr>\n",
       "    <tr>\n",
       "      <th>548</th>\n",
       "      <td>22.0</td>\n",
       "      <td>Razones de la demanda</td>\n",
       "      <td>Solo trabaja como delivery</td>\n",
       "      <td>1</td>\n",
       "      <td>1740.0</td>\n",
       "      <td>minimo</td>\n",
       "      <td>Secundario</td>\n",
       "      <td>jefe</td>\n",
       "      <td>asalariado</td>\n",
       "      <td>ninguno</td>\n",
       "      <td>tiene dependientes</td>\n",
       "    </tr>\n",
       "    <tr>\n",
       "      <th>549</th>\n",
       "      <td>20.0</td>\n",
       "      <td>Razones personales</td>\n",
       "      <td>Alterna con otro trabajo y/o estudios</td>\n",
       "      <td>2</td>\n",
       "      <td>1765.0</td>\n",
       "      <td>minimo</td>\n",
       "      <td>Alto</td>\n",
       "      <td>jefe</td>\n",
       "      <td>asalariado</td>\n",
       "      <td>ninguno</td>\n",
       "      <td>tiene dependientes</td>\n",
       "    </tr>\n",
       "    <tr>\n",
       "      <th>550</th>\n",
       "      <td>37.0</td>\n",
       "      <td>Razones de la demanda</td>\n",
       "      <td>Solo trabaja como delivery</td>\n",
       "      <td>1</td>\n",
       "      <td>3338.0</td>\n",
       "      <td>medio</td>\n",
       "      <td>Alto</td>\n",
       "      <td>jefe</td>\n",
       "      <td>asalariado</td>\n",
       "      <td>ninguno</td>\n",
       "      <td>tiene dependientes</td>\n",
       "    </tr>\n",
       "    <tr>\n",
       "      <th>551</th>\n",
       "      <td>30.0</td>\n",
       "      <td>NaN</td>\n",
       "      <td>Alterna con otro trabajo y/o estudios</td>\n",
       "      <td>4</td>\n",
       "      <td>3190.0</td>\n",
       "      <td>medio</td>\n",
       "      <td>Alto</td>\n",
       "      <td>jefe</td>\n",
       "      <td>NaN</td>\n",
       "      <td>menores en el hogar</td>\n",
       "      <td>tiene dependientes</td>\n",
       "    </tr>\n",
       "  </tbody>\n",
       "</table>\n",
       "<p>552 rows × 11 columns</p>\n",
       "</div>"
      ],
      "text/plain": [
       "     edad                             razones  \\\n",
       "0    22.0  Razones económicas/ bajos ingresos   \n",
       "1    25.0               Razones de la demanda   \n",
       "2    24.0                            Renuncio   \n",
       "3    27.0               Razones de la demanda   \n",
       "4    27.0                            Renuncio   \n",
       "..    ...                                 ...   \n",
       "547  28.0               Razones de la demanda   \n",
       "548  22.0               Razones de la demanda   \n",
       "549  20.0                  Razones personales   \n",
       "550  37.0               Razones de la demanda   \n",
       "551  30.0                                 NaN   \n",
       "\n",
       "                            pluriactividad  antiguedad  ingresor categoria  \\\n",
       "0    Alterna con otro trabajo y/o estudios           1    1517.0    minimo   \n",
       "1    Alterna con otro trabajo y/o estudios           4    4100.0     medio   \n",
       "2               Solo trabaja como delivery           3    3890.0     medio   \n",
       "3    Alterna con otro trabajo y/o estudios           3    3300.0     medio   \n",
       "4    Alterna con otro trabajo y/o estudios           4    3750.0     medio   \n",
       "..                                     ...         ...       ...       ...   \n",
       "547  Alterna con otro trabajo y/o estudios           4    2095.0    minimo   \n",
       "548             Solo trabaja como delivery           1    1740.0    minimo   \n",
       "549  Alterna con otro trabajo y/o estudios           2    1765.0    minimo   \n",
       "550             Solo trabaja como delivery           1    3338.0     medio   \n",
       "551  Alterna con otro trabajo y/o estudios           4    3190.0     medio   \n",
       "\n",
       "      educacion     jefe    anterior              menores         dependencia  \n",
       "0          Alto     jefe  asalariado              ninguno  tiene dependientes  \n",
       "1          Alto  no jefe  asalariado              ninguno  tiene dependientes  \n",
       "2    Secundario     jefe  asalariado  menores en el hogar  tiene dependientes  \n",
       "3          Alto  no jefe  asalariado              ninguno  tiene dependientes  \n",
       "4          Alto  no jefe  asalariado              ninguno  tiene dependientes  \n",
       "..          ...      ...         ...                  ...                 ...  \n",
       "547        Alto     jefe  asalariado              ninguno  tiene dependientes  \n",
       "548  Secundario     jefe  asalariado              ninguno  tiene dependientes  \n",
       "549        Alto     jefe  asalariado              ninguno  tiene dependientes  \n",
       "550        Alto     jefe  asalariado              ninguno  tiene dependientes  \n",
       "551        Alto     jefe         NaN  menores en el hogar  tiene dependientes  \n",
       "\n",
       "[552 rows x 11 columns]"
      ]
     },
     "execution_count": 56,
     "metadata": {},
     "output_type": "execute_result"
    }
   ],
   "source": [
    "df2"
   ]
  },
  {
   "cell_type": "code",
   "execution_count": 57,
   "id": "c984d44e-4317-4c2c-b0bd-e91f18467214",
   "metadata": {},
   "outputs": [
    {
     "name": "stderr",
     "output_type": "stream",
     "text": [
      "C:\\Users\\CAleman\\AppData\\Local\\Temp\\ipykernel_11996\\806111492.py:1: SettingWithCopyWarning: \n",
      "A value is trying to be set on a copy of a slice from a DataFrame.\n",
      "Try using .loc[row_indexer,col_indexer] = value instead\n",
      "\n",
      "See the caveats in the documentation: https://pandas.pydata.org/pandas-docs/stable/user_guide/indexing.html#returning-a-view-versus-a-copy\n",
      "  df2['edad'] = df2['edad'].astype(int)\n"
     ]
    }
   ],
   "source": [
    "df2['edad'] = df2['edad'].astype(int)"
   ]
  },
  {
   "cell_type": "code",
   "execution_count": 58,
   "id": "d47ce7f4-271e-42d7-ac59-46f7e3292646",
   "metadata": {},
   "outputs": [
    {
     "data": {
      "text/plain": [
       "dtype('int32')"
      ]
     },
     "execution_count": 58,
     "metadata": {},
     "output_type": "execute_result"
    }
   ],
   "source": [
    "df2['edad'].dtypes"
   ]
  },
  {
   "cell_type": "code",
   "execution_count": 59,
   "id": "1d620c1d-49ed-4740-b9fe-02077df2b977",
   "metadata": {},
   "outputs": [],
   "source": [
    "df2_e = df2[df2['edad'].between(18, 24)]\n",
    "df2_e1 = df2[df2['edad'].between(25,29)]\n",
    "df2_ee = df2[df2['edad'] > 29]"
   ]
  },
  {
   "cell_type": "code",
   "execution_count": 60,
   "id": "6b4f11ab-b318-4150-bc69-bdba7e9b93c6",
   "metadata": {},
   "outputs": [
    {
     "data": {
      "text/plain": [
       "22    47\n",
       "23    44\n",
       "24    40\n",
       "21    24\n",
       "20    19\n",
       "19    13\n",
       "18     5\n",
       "Name: edad, dtype: int64"
      ]
     },
     "execution_count": 60,
     "metadata": {},
     "output_type": "execute_result"
    }
   ],
   "source": [
    "df2_e['edad'].value_counts()"
   ]
  },
  {
   "cell_type": "code",
   "execution_count": 61,
   "id": "ddd19ff9-07fa-4bce-af55-b598bf7d0fa5",
   "metadata": {},
   "outputs": [
    {
     "data": {
      "text/plain": [
       "26    52\n",
       "28    44\n",
       "27    41\n",
       "25    37\n",
       "29    37\n",
       "Name: edad, dtype: int64"
      ]
     },
     "execution_count": 61,
     "metadata": {},
     "output_type": "execute_result"
    }
   ],
   "source": [
    "df2_e1['edad'].value_counts()"
   ]
  },
  {
   "cell_type": "code",
   "execution_count": 62,
   "id": "1c8781ad-8437-4a69-9c7e-b35c6596f462",
   "metadata": {},
   "outputs": [
    {
     "data": {
      "text/plain": [
       "30    29\n",
       "32    20\n",
       "33    17\n",
       "31    16\n",
       "35    15\n",
       "34    15\n",
       "37     8\n",
       "36     8\n",
       "40     3\n",
       "38     3\n",
       "44     3\n",
       "50     2\n",
       "43     2\n",
       "46     2\n",
       "41     2\n",
       "42     1\n",
       "45     1\n",
       "47     1\n",
       "39     1\n",
       "Name: edad, dtype: int64"
      ]
     },
     "execution_count": 62,
     "metadata": {},
     "output_type": "execute_result"
    }
   ],
   "source": [
    "df2_ee['edad'].value_counts()"
   ]
  },
  {
   "cell_type": "code",
   "execution_count": 63,
   "id": "6cd089e8-b507-41d0-b169-acf359b6e148",
   "metadata": {},
   "outputs": [
    {
     "data": {
      "text/html": [
       "<div>\n",
       "<style scoped>\n",
       "    .dataframe tbody tr th:only-of-type {\n",
       "        vertical-align: middle;\n",
       "    }\n",
       "\n",
       "    .dataframe tbody tr th {\n",
       "        vertical-align: top;\n",
       "    }\n",
       "\n",
       "    .dataframe thead th {\n",
       "        text-align: right;\n",
       "    }\n",
       "</style>\n",
       "<table border=\"1\" class=\"dataframe\">\n",
       "  <thead>\n",
       "    <tr style=\"text-align: right;\">\n",
       "      <th></th>\n",
       "      <th>edad</th>\n",
       "      <th>razones</th>\n",
       "      <th>pluriactividad</th>\n",
       "      <th>antiguedad</th>\n",
       "      <th>ingresor</th>\n",
       "      <th>categoria</th>\n",
       "      <th>educacion</th>\n",
       "      <th>jefe</th>\n",
       "      <th>anterior</th>\n",
       "      <th>menores</th>\n",
       "      <th>dependencia</th>\n",
       "    </tr>\n",
       "  </thead>\n",
       "  <tbody>\n",
       "    <tr>\n",
       "      <th>0</th>\n",
       "      <td>22</td>\n",
       "      <td>Razones económicas/ bajos ingresos</td>\n",
       "      <td>Alterna con otro trabajo y/o estudios</td>\n",
       "      <td>1</td>\n",
       "      <td>1517.0</td>\n",
       "      <td>minimo</td>\n",
       "      <td>Alto</td>\n",
       "      <td>jefe</td>\n",
       "      <td>asalariado</td>\n",
       "      <td>ninguno</td>\n",
       "      <td>tiene dependientes</td>\n",
       "    </tr>\n",
       "    <tr>\n",
       "      <th>2</th>\n",
       "      <td>24</td>\n",
       "      <td>Renuncio</td>\n",
       "      <td>Solo trabaja como delivery</td>\n",
       "      <td>3</td>\n",
       "      <td>3890.0</td>\n",
       "      <td>medio</td>\n",
       "      <td>Secundario</td>\n",
       "      <td>jefe</td>\n",
       "      <td>asalariado</td>\n",
       "      <td>menores en el hogar</td>\n",
       "      <td>tiene dependientes</td>\n",
       "    </tr>\n",
       "    <tr>\n",
       "      <th>10</th>\n",
       "      <td>23</td>\n",
       "      <td>Razones personales</td>\n",
       "      <td>Alterna con otro trabajo y/o estudios</td>\n",
       "      <td>3</td>\n",
       "      <td>2810.0</td>\n",
       "      <td>medio</td>\n",
       "      <td>Alto</td>\n",
       "      <td>no jefe</td>\n",
       "      <td>asalariado</td>\n",
       "      <td>menores en el hogar</td>\n",
       "      <td>tiene dependientes</td>\n",
       "    </tr>\n",
       "    <tr>\n",
       "      <th>12</th>\n",
       "      <td>23</td>\n",
       "      <td>Razones económicas/ bajos ingresos</td>\n",
       "      <td>Alterna con otro trabajo y/o estudios</td>\n",
       "      <td>2</td>\n",
       "      <td>2305.0</td>\n",
       "      <td>minimo</td>\n",
       "      <td>Alto</td>\n",
       "      <td>no jefe</td>\n",
       "      <td>asalariado</td>\n",
       "      <td>menores en el hogar</td>\n",
       "      <td>tiene dependientes</td>\n",
       "    </tr>\n",
       "    <tr>\n",
       "      <th>13</th>\n",
       "      <td>20</td>\n",
       "      <td>Razones económicas/ bajos ingresos</td>\n",
       "      <td>Solo trabaja como delivery</td>\n",
       "      <td>1</td>\n",
       "      <td>4735.0</td>\n",
       "      <td>medio</td>\n",
       "      <td>Alto</td>\n",
       "      <td>no jefe</td>\n",
       "      <td>asalariado</td>\n",
       "      <td>menores en el hogar</td>\n",
       "      <td>tiene dependientes</td>\n",
       "    </tr>\n",
       "    <tr>\n",
       "      <th>...</th>\n",
       "      <td>...</td>\n",
       "      <td>...</td>\n",
       "      <td>...</td>\n",
       "      <td>...</td>\n",
       "      <td>...</td>\n",
       "      <td>...</td>\n",
       "      <td>...</td>\n",
       "      <td>...</td>\n",
       "      <td>...</td>\n",
       "      <td>...</td>\n",
       "      <td>...</td>\n",
       "    </tr>\n",
       "    <tr>\n",
       "      <th>540</th>\n",
       "      <td>24</td>\n",
       "      <td>Razones económicas/ bajos ingresos</td>\n",
       "      <td>Solo trabaja como delivery</td>\n",
       "      <td>1</td>\n",
       "      <td>2400.0</td>\n",
       "      <td>medio</td>\n",
       "      <td>Secundario</td>\n",
       "      <td>jefe</td>\n",
       "      <td>asalariado</td>\n",
       "      <td>ninguno</td>\n",
       "      <td>tiene dependientes</td>\n",
       "    </tr>\n",
       "    <tr>\n",
       "      <th>541</th>\n",
       "      <td>24</td>\n",
       "      <td>Razones personales</td>\n",
       "      <td>Solo trabaja como delivery</td>\n",
       "      <td>4</td>\n",
       "      <td>7074.0</td>\n",
       "      <td>alto</td>\n",
       "      <td>Alto</td>\n",
       "      <td>jefe</td>\n",
       "      <td>asalariado</td>\n",
       "      <td>ninguno</td>\n",
       "      <td>tiene dependientes</td>\n",
       "    </tr>\n",
       "    <tr>\n",
       "      <th>543</th>\n",
       "      <td>23</td>\n",
       "      <td>Razones personales</td>\n",
       "      <td>Solo trabaja como delivery</td>\n",
       "      <td>2</td>\n",
       "      <td>2220.0</td>\n",
       "      <td>minimo</td>\n",
       "      <td>Alto</td>\n",
       "      <td>jefe</td>\n",
       "      <td>asalariado</td>\n",
       "      <td>ninguno</td>\n",
       "      <td>tiene dependientes</td>\n",
       "    </tr>\n",
       "    <tr>\n",
       "      <th>548</th>\n",
       "      <td>22</td>\n",
       "      <td>Razones de la demanda</td>\n",
       "      <td>Solo trabaja como delivery</td>\n",
       "      <td>1</td>\n",
       "      <td>1740.0</td>\n",
       "      <td>minimo</td>\n",
       "      <td>Secundario</td>\n",
       "      <td>jefe</td>\n",
       "      <td>asalariado</td>\n",
       "      <td>ninguno</td>\n",
       "      <td>tiene dependientes</td>\n",
       "    </tr>\n",
       "    <tr>\n",
       "      <th>549</th>\n",
       "      <td>20</td>\n",
       "      <td>Razones personales</td>\n",
       "      <td>Alterna con otro trabajo y/o estudios</td>\n",
       "      <td>2</td>\n",
       "      <td>1765.0</td>\n",
       "      <td>minimo</td>\n",
       "      <td>Alto</td>\n",
       "      <td>jefe</td>\n",
       "      <td>asalariado</td>\n",
       "      <td>ninguno</td>\n",
       "      <td>tiene dependientes</td>\n",
       "    </tr>\n",
       "  </tbody>\n",
       "</table>\n",
       "<p>192 rows × 11 columns</p>\n",
       "</div>"
      ],
      "text/plain": [
       "     edad                             razones  \\\n",
       "0      22  Razones económicas/ bajos ingresos   \n",
       "2      24                            Renuncio   \n",
       "10     23                  Razones personales   \n",
       "12     23  Razones económicas/ bajos ingresos   \n",
       "13     20  Razones económicas/ bajos ingresos   \n",
       "..    ...                                 ...   \n",
       "540    24  Razones económicas/ bajos ingresos   \n",
       "541    24                  Razones personales   \n",
       "543    23                  Razones personales   \n",
       "548    22               Razones de la demanda   \n",
       "549    20                  Razones personales   \n",
       "\n",
       "                            pluriactividad  antiguedad  ingresor categoria  \\\n",
       "0    Alterna con otro trabajo y/o estudios           1    1517.0    minimo   \n",
       "2               Solo trabaja como delivery           3    3890.0     medio   \n",
       "10   Alterna con otro trabajo y/o estudios           3    2810.0     medio   \n",
       "12   Alterna con otro trabajo y/o estudios           2    2305.0    minimo   \n",
       "13              Solo trabaja como delivery           1    4735.0     medio   \n",
       "..                                     ...         ...       ...       ...   \n",
       "540             Solo trabaja como delivery           1    2400.0     medio   \n",
       "541             Solo trabaja como delivery           4    7074.0      alto   \n",
       "543             Solo trabaja como delivery           2    2220.0    minimo   \n",
       "548             Solo trabaja como delivery           1    1740.0    minimo   \n",
       "549  Alterna con otro trabajo y/o estudios           2    1765.0    minimo   \n",
       "\n",
       "      educacion     jefe    anterior              menores         dependencia  \n",
       "0          Alto     jefe  asalariado              ninguno  tiene dependientes  \n",
       "2    Secundario     jefe  asalariado  menores en el hogar  tiene dependientes  \n",
       "10         Alto  no jefe  asalariado  menores en el hogar  tiene dependientes  \n",
       "12         Alto  no jefe  asalariado  menores en el hogar  tiene dependientes  \n",
       "13         Alto  no jefe  asalariado  menores en el hogar  tiene dependientes  \n",
       "..          ...      ...         ...                  ...                 ...  \n",
       "540  Secundario     jefe  asalariado              ninguno  tiene dependientes  \n",
       "541        Alto     jefe  asalariado              ninguno  tiene dependientes  \n",
       "543        Alto     jefe  asalariado              ninguno  tiene dependientes  \n",
       "548  Secundario     jefe  asalariado              ninguno  tiene dependientes  \n",
       "549        Alto     jefe  asalariado              ninguno  tiene dependientes  \n",
       "\n",
       "[192 rows x 11 columns]"
      ]
     },
     "execution_count": 63,
     "metadata": {},
     "output_type": "execute_result"
    }
   ],
   "source": [
    "df2_e"
   ]
  },
  {
   "cell_type": "code",
   "execution_count": 64,
   "id": "5d7f5fd7-8e34-4b8d-acd6-df8b2c3c909c",
   "metadata": {},
   "outputs": [
    {
     "data": {
      "text/html": [
       "<div>\n",
       "<style scoped>\n",
       "    .dataframe tbody tr th:only-of-type {\n",
       "        vertical-align: middle;\n",
       "    }\n",
       "\n",
       "    .dataframe tbody tr th {\n",
       "        vertical-align: top;\n",
       "    }\n",
       "\n",
       "    .dataframe thead th {\n",
       "        text-align: right;\n",
       "    }\n",
       "</style>\n",
       "<table border=\"1\" class=\"dataframe\">\n",
       "  <thead>\n",
       "    <tr style=\"text-align: right;\">\n",
       "      <th></th>\n",
       "      <th>edad</th>\n",
       "      <th>razones</th>\n",
       "      <th>pluriactividad</th>\n",
       "      <th>antiguedad</th>\n",
       "      <th>ingresor</th>\n",
       "      <th>categoria</th>\n",
       "      <th>educacion</th>\n",
       "      <th>jefe</th>\n",
       "      <th>anterior</th>\n",
       "      <th>menores</th>\n",
       "      <th>dependencia</th>\n",
       "    </tr>\n",
       "  </thead>\n",
       "  <tbody>\n",
       "    <tr>\n",
       "      <th>6</th>\n",
       "      <td>32</td>\n",
       "      <td>Razones personales</td>\n",
       "      <td>Alterna con otro trabajo y/o estudios</td>\n",
       "      <td>1</td>\n",
       "      <td>2165.0</td>\n",
       "      <td>minimo</td>\n",
       "      <td>Secundario</td>\n",
       "      <td>no jefe</td>\n",
       "      <td>asalariado</td>\n",
       "      <td>ninguno</td>\n",
       "      <td>tiene dependientes</td>\n",
       "    </tr>\n",
       "    <tr>\n",
       "      <th>16</th>\n",
       "      <td>37</td>\n",
       "      <td>Razones de la demanda</td>\n",
       "      <td>Alterna con otro trabajo y/o estudios</td>\n",
       "      <td>3</td>\n",
       "      <td>2250.0</td>\n",
       "      <td>minimo</td>\n",
       "      <td>Alto</td>\n",
       "      <td>jefe</td>\n",
       "      <td>asalariado</td>\n",
       "      <td>menores en el hogar</td>\n",
       "      <td>tiene dependientes</td>\n",
       "    </tr>\n",
       "    <tr>\n",
       "      <th>17</th>\n",
       "      <td>31</td>\n",
       "      <td>Razones de la demanda</td>\n",
       "      <td>Solo trabaja como delivery</td>\n",
       "      <td>4</td>\n",
       "      <td>5835.0</td>\n",
       "      <td>alto</td>\n",
       "      <td>Alto</td>\n",
       "      <td>jefe</td>\n",
       "      <td>asalariado</td>\n",
       "      <td>ninguno</td>\n",
       "      <td>tiene dependientes</td>\n",
       "    </tr>\n",
       "    <tr>\n",
       "      <th>23</th>\n",
       "      <td>33</td>\n",
       "      <td>Razones personales</td>\n",
       "      <td>Alterna con otro trabajo y/o estudios</td>\n",
       "      <td>2</td>\n",
       "      <td>1700.0</td>\n",
       "      <td>minimo</td>\n",
       "      <td>Alto</td>\n",
       "      <td>no jefe</td>\n",
       "      <td>asalariado</td>\n",
       "      <td>ninguno</td>\n",
       "      <td>tiene dependientes</td>\n",
       "    </tr>\n",
       "    <tr>\n",
       "      <th>32</th>\n",
       "      <td>33</td>\n",
       "      <td>Razones de la demanda</td>\n",
       "      <td>Solo trabaja como delivery</td>\n",
       "      <td>1</td>\n",
       "      <td>3117.0</td>\n",
       "      <td>medio</td>\n",
       "      <td>Alto</td>\n",
       "      <td>jefe</td>\n",
       "      <td>asalariado</td>\n",
       "      <td>ninguno</td>\n",
       "      <td>tiene dependientes</td>\n",
       "    </tr>\n",
       "    <tr>\n",
       "      <th>...</th>\n",
       "      <td>...</td>\n",
       "      <td>...</td>\n",
       "      <td>...</td>\n",
       "      <td>...</td>\n",
       "      <td>...</td>\n",
       "      <td>...</td>\n",
       "      <td>...</td>\n",
       "      <td>...</td>\n",
       "      <td>...</td>\n",
       "      <td>...</td>\n",
       "      <td>...</td>\n",
       "    </tr>\n",
       "    <tr>\n",
       "      <th>539</th>\n",
       "      <td>36</td>\n",
       "      <td>Razones de la demanda</td>\n",
       "      <td>Solo trabaja como delivery</td>\n",
       "      <td>1</td>\n",
       "      <td>5030.0</td>\n",
       "      <td>alto</td>\n",
       "      <td>Alto</td>\n",
       "      <td>no jefe</td>\n",
       "      <td>asalariado</td>\n",
       "      <td>ninguno</td>\n",
       "      <td>tiene dependientes</td>\n",
       "    </tr>\n",
       "    <tr>\n",
       "      <th>542</th>\n",
       "      <td>31</td>\n",
       "      <td>Razones de la demanda</td>\n",
       "      <td>Alterna con otro trabajo y/o estudios</td>\n",
       "      <td>4</td>\n",
       "      <td>2884.0</td>\n",
       "      <td>medio</td>\n",
       "      <td>Secundario</td>\n",
       "      <td>jefe</td>\n",
       "      <td>asalariado</td>\n",
       "      <td>menores en el hogar</td>\n",
       "      <td>tiene dependientes</td>\n",
       "    </tr>\n",
       "    <tr>\n",
       "      <th>546</th>\n",
       "      <td>30</td>\n",
       "      <td>Razones económicas/ bajos ingresos</td>\n",
       "      <td>Solo trabaja como delivery</td>\n",
       "      <td>1</td>\n",
       "      <td>3190.0</td>\n",
       "      <td>medio</td>\n",
       "      <td>Secundario</td>\n",
       "      <td>jefe</td>\n",
       "      <td>no asalariado</td>\n",
       "      <td>ninguno</td>\n",
       "      <td>tiene dependientes</td>\n",
       "    </tr>\n",
       "    <tr>\n",
       "      <th>550</th>\n",
       "      <td>37</td>\n",
       "      <td>Razones de la demanda</td>\n",
       "      <td>Solo trabaja como delivery</td>\n",
       "      <td>1</td>\n",
       "      <td>3338.0</td>\n",
       "      <td>medio</td>\n",
       "      <td>Alto</td>\n",
       "      <td>jefe</td>\n",
       "      <td>asalariado</td>\n",
       "      <td>ninguno</td>\n",
       "      <td>tiene dependientes</td>\n",
       "    </tr>\n",
       "    <tr>\n",
       "      <th>551</th>\n",
       "      <td>30</td>\n",
       "      <td>NaN</td>\n",
       "      <td>Alterna con otro trabajo y/o estudios</td>\n",
       "      <td>4</td>\n",
       "      <td>3190.0</td>\n",
       "      <td>medio</td>\n",
       "      <td>Alto</td>\n",
       "      <td>jefe</td>\n",
       "      <td>NaN</td>\n",
       "      <td>menores en el hogar</td>\n",
       "      <td>tiene dependientes</td>\n",
       "    </tr>\n",
       "  </tbody>\n",
       "</table>\n",
       "<p>149 rows × 11 columns</p>\n",
       "</div>"
      ],
      "text/plain": [
       "     edad                             razones  \\\n",
       "6      32                  Razones personales   \n",
       "16     37               Razones de la demanda   \n",
       "17     31               Razones de la demanda   \n",
       "23     33                  Razones personales   \n",
       "32     33               Razones de la demanda   \n",
       "..    ...                                 ...   \n",
       "539    36               Razones de la demanda   \n",
       "542    31               Razones de la demanda   \n",
       "546    30  Razones económicas/ bajos ingresos   \n",
       "550    37               Razones de la demanda   \n",
       "551    30                                 NaN   \n",
       "\n",
       "                            pluriactividad  antiguedad  ingresor categoria  \\\n",
       "6    Alterna con otro trabajo y/o estudios           1    2165.0    minimo   \n",
       "16   Alterna con otro trabajo y/o estudios           3    2250.0    minimo   \n",
       "17              Solo trabaja como delivery           4    5835.0      alto   \n",
       "23   Alterna con otro trabajo y/o estudios           2    1700.0    minimo   \n",
       "32              Solo trabaja como delivery           1    3117.0     medio   \n",
       "..                                     ...         ...       ...       ...   \n",
       "539             Solo trabaja como delivery           1    5030.0      alto   \n",
       "542  Alterna con otro trabajo y/o estudios           4    2884.0     medio   \n",
       "546             Solo trabaja como delivery           1    3190.0     medio   \n",
       "550             Solo trabaja como delivery           1    3338.0     medio   \n",
       "551  Alterna con otro trabajo y/o estudios           4    3190.0     medio   \n",
       "\n",
       "      educacion     jefe       anterior              menores  \\\n",
       "6    Secundario  no jefe     asalariado              ninguno   \n",
       "16         Alto     jefe     asalariado  menores en el hogar   \n",
       "17         Alto     jefe     asalariado              ninguno   \n",
       "23         Alto  no jefe     asalariado              ninguno   \n",
       "32         Alto     jefe     asalariado              ninguno   \n",
       "..          ...      ...            ...                  ...   \n",
       "539        Alto  no jefe     asalariado              ninguno   \n",
       "542  Secundario     jefe     asalariado  menores en el hogar   \n",
       "546  Secundario     jefe  no asalariado              ninguno   \n",
       "550        Alto     jefe     asalariado              ninguno   \n",
       "551        Alto     jefe            NaN  menores en el hogar   \n",
       "\n",
       "            dependencia  \n",
       "6    tiene dependientes  \n",
       "16   tiene dependientes  \n",
       "17   tiene dependientes  \n",
       "23   tiene dependientes  \n",
       "32   tiene dependientes  \n",
       "..                  ...  \n",
       "539  tiene dependientes  \n",
       "542  tiene dependientes  \n",
       "546  tiene dependientes  \n",
       "550  tiene dependientes  \n",
       "551  tiene dependientes  \n",
       "\n",
       "[149 rows x 11 columns]"
      ]
     },
     "execution_count": 64,
     "metadata": {},
     "output_type": "execute_result"
    }
   ],
   "source": [
    "df2_ee"
   ]
  },
  {
   "cell_type": "code",
   "execution_count": 65,
   "id": "9c57853d-e946-4ea4-93d0-4bfae8f68f7b",
   "metadata": {},
   "outputs": [
    {
     "data": {
      "text/html": [
       "<div>\n",
       "<style scoped>\n",
       "    .dataframe tbody tr th:only-of-type {\n",
       "        vertical-align: middle;\n",
       "    }\n",
       "\n",
       "    .dataframe tbody tr th {\n",
       "        vertical-align: top;\n",
       "    }\n",
       "\n",
       "    .dataframe thead th {\n",
       "        text-align: right;\n",
       "    }\n",
       "</style>\n",
       "<table border=\"1\" class=\"dataframe\">\n",
       "  <thead>\n",
       "    <tr style=\"text-align: right;\">\n",
       "      <th>categoria</th>\n",
       "      <th>alto</th>\n",
       "      <th>medio</th>\n",
       "      <th>minimo</th>\n",
       "    </tr>\n",
       "    <tr>\n",
       "      <th>educacion</th>\n",
       "      <th></th>\n",
       "      <th></th>\n",
       "      <th></th>\n",
       "    </tr>\n",
       "  </thead>\n",
       "  <tbody>\n",
       "    <tr>\n",
       "      <th>Alto</th>\n",
       "      <td>54</td>\n",
       "      <td>150</td>\n",
       "      <td>161</td>\n",
       "    </tr>\n",
       "    <tr>\n",
       "      <th>Secundario</th>\n",
       "      <td>42</td>\n",
       "      <td>68</td>\n",
       "      <td>77</td>\n",
       "    </tr>\n",
       "  </tbody>\n",
       "</table>\n",
       "</div>"
      ],
      "text/plain": [
       "categoria   alto  medio  minimo\n",
       "educacion                      \n",
       "Alto          54    150     161\n",
       "Secundario    42     68      77"
      ]
     },
     "execution_count": 65,
     "metadata": {},
     "output_type": "execute_result"
    }
   ],
   "source": [
    "pd.crosstab(df2.educacion, df2.categoria)"
   ]
  },
  {
   "cell_type": "code",
   "execution_count": 66,
   "id": "dae605f5-ef95-4938-b3b1-6990089ce59d",
   "metadata": {},
   "outputs": [
    {
     "data": {
      "text/html": [
       "<div>\n",
       "<style scoped>\n",
       "    .dataframe tbody tr th:only-of-type {\n",
       "        vertical-align: middle;\n",
       "    }\n",
       "\n",
       "    .dataframe tbody tr th {\n",
       "        vertical-align: top;\n",
       "    }\n",
       "\n",
       "    .dataframe thead th {\n",
       "        text-align: right;\n",
       "    }\n",
       "</style>\n",
       "<table border=\"1\" class=\"dataframe\">\n",
       "  <thead>\n",
       "    <tr style=\"text-align: right;\">\n",
       "      <th>pluriactividad</th>\n",
       "      <th>Alterna con otro trabajo y/o estudios</th>\n",
       "      <th>Solo trabaja como delivery</th>\n",
       "    </tr>\n",
       "    <tr>\n",
       "      <th>educacion</th>\n",
       "      <th></th>\n",
       "      <th></th>\n",
       "    </tr>\n",
       "  </thead>\n",
       "  <tbody>\n",
       "    <tr>\n",
       "      <th>Alto</th>\n",
       "      <td>258</td>\n",
       "      <td>107</td>\n",
       "    </tr>\n",
       "    <tr>\n",
       "      <th>Secundario</th>\n",
       "      <td>70</td>\n",
       "      <td>117</td>\n",
       "    </tr>\n",
       "  </tbody>\n",
       "</table>\n",
       "</div>"
      ],
      "text/plain": [
       "pluriactividad  Alterna con otro trabajo y/o estudios  \\\n",
       "educacion                                               \n",
       "Alto                                              258   \n",
       "Secundario                                         70   \n",
       "\n",
       "pluriactividad  Solo trabaja como delivery  \n",
       "educacion                                   \n",
       "Alto                                   107  \n",
       "Secundario                             117  "
      ]
     },
     "execution_count": 66,
     "metadata": {},
     "output_type": "execute_result"
    }
   ],
   "source": [
    "pd.crosstab(df2.educacion, df2.pluriactividad)"
   ]
  },
  {
   "cell_type": "code",
   "execution_count": 67,
   "id": "53ea0a21-9193-4153-8b5c-2449603b8192",
   "metadata": {},
   "outputs": [
    {
     "data": {
      "text/html": [
       "<div>\n",
       "<style scoped>\n",
       "    .dataframe tbody tr th:only-of-type {\n",
       "        vertical-align: middle;\n",
       "    }\n",
       "\n",
       "    .dataframe tbody tr th {\n",
       "        vertical-align: top;\n",
       "    }\n",
       "\n",
       "    .dataframe thead th {\n",
       "        text-align: right;\n",
       "    }\n",
       "</style>\n",
       "<table border=\"1\" class=\"dataframe\">\n",
       "  <thead>\n",
       "    <tr style=\"text-align: right;\">\n",
       "      <th>razones</th>\n",
       "      <th>Era un empleo temporal</th>\n",
       "      <th>Razones de la demanda</th>\n",
       "      <th>Razones económicas/ bajos ingresos</th>\n",
       "      <th>Razones personales</th>\n",
       "      <th>Renuncio</th>\n",
       "    </tr>\n",
       "    <tr>\n",
       "      <th>educacion</th>\n",
       "      <th></th>\n",
       "      <th></th>\n",
       "      <th></th>\n",
       "      <th></th>\n",
       "      <th></th>\n",
       "    </tr>\n",
       "  </thead>\n",
       "  <tbody>\n",
       "    <tr>\n",
       "      <th>Alto</th>\n",
       "      <td>30</td>\n",
       "      <td>94</td>\n",
       "      <td>71</td>\n",
       "      <td>104</td>\n",
       "      <td>48</td>\n",
       "    </tr>\n",
       "    <tr>\n",
       "      <th>Secundario</th>\n",
       "      <td>17</td>\n",
       "      <td>48</td>\n",
       "      <td>51</td>\n",
       "      <td>40</td>\n",
       "      <td>26</td>\n",
       "    </tr>\n",
       "  </tbody>\n",
       "</table>\n",
       "</div>"
      ],
      "text/plain": [
       "razones     Era un empleo temporal  Razones de la demanda  \\\n",
       "educacion                                                   \n",
       "Alto                            30                     94   \n",
       "Secundario                      17                     48   \n",
       "\n",
       "razones     Razones económicas/ bajos ingresos  Razones personales  Renuncio  \n",
       "educacion                                                                     \n",
       "Alto                                        71                 104        48  \n",
       "Secundario                                  51                  40        26  "
      ]
     },
     "execution_count": 67,
     "metadata": {},
     "output_type": "execute_result"
    }
   ],
   "source": [
    "pd.crosstab(df2.educacion, df2.razones)"
   ]
  },
  {
   "cell_type": "code",
   "execution_count": 68,
   "id": "4cf19c9d-ca5d-416a-b2f8-9433bcf3695b",
   "metadata": {},
   "outputs": [
    {
     "data": {
      "text/html": [
       "<div>\n",
       "<style scoped>\n",
       "    .dataframe tbody tr th:only-of-type {\n",
       "        vertical-align: middle;\n",
       "    }\n",
       "\n",
       "    .dataframe tbody tr th {\n",
       "        vertical-align: top;\n",
       "    }\n",
       "\n",
       "    .dataframe thead th {\n",
       "        text-align: right;\n",
       "    }\n",
       "</style>\n",
       "<table border=\"1\" class=\"dataframe\">\n",
       "  <thead>\n",
       "    <tr style=\"text-align: right;\">\n",
       "      <th>antiguedad</th>\n",
       "      <th>1</th>\n",
       "      <th>2</th>\n",
       "      <th>3</th>\n",
       "      <th>4</th>\n",
       "    </tr>\n",
       "    <tr>\n",
       "      <th>educacion</th>\n",
       "      <th></th>\n",
       "      <th></th>\n",
       "      <th></th>\n",
       "      <th></th>\n",
       "    </tr>\n",
       "  </thead>\n",
       "  <tbody>\n",
       "    <tr>\n",
       "      <th>Alto</th>\n",
       "      <td>129</td>\n",
       "      <td>118</td>\n",
       "      <td>49</td>\n",
       "      <td>69</td>\n",
       "    </tr>\n",
       "    <tr>\n",
       "      <th>Secundario</th>\n",
       "      <td>69</td>\n",
       "      <td>57</td>\n",
       "      <td>23</td>\n",
       "      <td>38</td>\n",
       "    </tr>\n",
       "  </tbody>\n",
       "</table>\n",
       "</div>"
      ],
      "text/plain": [
       "antiguedad    1    2   3   4\n",
       "educacion                   \n",
       "Alto        129  118  49  69\n",
       "Secundario   69   57  23  38"
      ]
     },
     "execution_count": 68,
     "metadata": {},
     "output_type": "execute_result"
    }
   ],
   "source": [
    "pd.crosstab(df2.educacion, df2.antiguedad)"
   ]
  },
  {
   "cell_type": "code",
   "execution_count": 69,
   "id": "396f1fc3-2571-4560-987e-6dbad066b420",
   "metadata": {},
   "outputs": [
    {
     "data": {
      "text/html": [
       "<div>\n",
       "<style scoped>\n",
       "    .dataframe tbody tr th:only-of-type {\n",
       "        vertical-align: middle;\n",
       "    }\n",
       "\n",
       "    .dataframe tbody tr th {\n",
       "        vertical-align: top;\n",
       "    }\n",
       "\n",
       "    .dataframe thead th {\n",
       "        text-align: right;\n",
       "    }\n",
       "</style>\n",
       "<table border=\"1\" class=\"dataframe\">\n",
       "  <thead>\n",
       "    <tr style=\"text-align: right;\">\n",
       "      <th>jefe</th>\n",
       "      <th>jefe</th>\n",
       "      <th>no jefe</th>\n",
       "    </tr>\n",
       "    <tr>\n",
       "      <th>educacion</th>\n",
       "      <th></th>\n",
       "      <th></th>\n",
       "    </tr>\n",
       "  </thead>\n",
       "  <tbody>\n",
       "    <tr>\n",
       "      <th>Alto</th>\n",
       "      <td>169</td>\n",
       "      <td>196</td>\n",
       "    </tr>\n",
       "    <tr>\n",
       "      <th>Secundario</th>\n",
       "      <td>101</td>\n",
       "      <td>86</td>\n",
       "    </tr>\n",
       "  </tbody>\n",
       "</table>\n",
       "</div>"
      ],
      "text/plain": [
       "jefe        jefe  no jefe\n",
       "educacion                \n",
       "Alto         169      196\n",
       "Secundario   101       86"
      ]
     },
     "execution_count": 69,
     "metadata": {},
     "output_type": "execute_result"
    }
   ],
   "source": [
    "pd.crosstab(df2.educacion, df2.jefe)"
   ]
  },
  {
   "cell_type": "code",
   "execution_count": 70,
   "id": "404d1e68-18a8-4dcc-acf4-f043b3f4670c",
   "metadata": {},
   "outputs": [
    {
     "data": {
      "text/html": [
       "<div>\n",
       "<style scoped>\n",
       "    .dataframe tbody tr th:only-of-type {\n",
       "        vertical-align: middle;\n",
       "    }\n",
       "\n",
       "    .dataframe tbody tr th {\n",
       "        vertical-align: top;\n",
       "    }\n",
       "\n",
       "    .dataframe thead th {\n",
       "        text-align: right;\n",
       "    }\n",
       "</style>\n",
       "<table border=\"1\" class=\"dataframe\">\n",
       "  <thead>\n",
       "    <tr style=\"text-align: right;\">\n",
       "      <th>anterior</th>\n",
       "      <th>asalariado</th>\n",
       "      <th>no asalariado</th>\n",
       "    </tr>\n",
       "    <tr>\n",
       "      <th>educacion</th>\n",
       "      <th></th>\n",
       "      <th></th>\n",
       "    </tr>\n",
       "  </thead>\n",
       "  <tbody>\n",
       "    <tr>\n",
       "      <th>Alto</th>\n",
       "      <td>307</td>\n",
       "      <td>40</td>\n",
       "    </tr>\n",
       "    <tr>\n",
       "      <th>Secundario</th>\n",
       "      <td>156</td>\n",
       "      <td>26</td>\n",
       "    </tr>\n",
       "  </tbody>\n",
       "</table>\n",
       "</div>"
      ],
      "text/plain": [
       "anterior    asalariado  no asalariado\n",
       "educacion                            \n",
       "Alto               307             40\n",
       "Secundario         156             26"
      ]
     },
     "execution_count": 70,
     "metadata": {},
     "output_type": "execute_result"
    }
   ],
   "source": [
    "pd.crosstab(df2.educacion, df2.anterior)"
   ]
  },
  {
   "cell_type": "code",
   "execution_count": 71,
   "id": "b34319c3-d3b1-40df-9e3b-8413ed53a5b7",
   "metadata": {},
   "outputs": [
    {
     "data": {
      "text/html": [
       "<div>\n",
       "<style scoped>\n",
       "    .dataframe tbody tr th:only-of-type {\n",
       "        vertical-align: middle;\n",
       "    }\n",
       "\n",
       "    .dataframe tbody tr th {\n",
       "        vertical-align: top;\n",
       "    }\n",
       "\n",
       "    .dataframe thead th {\n",
       "        text-align: right;\n",
       "    }\n",
       "</style>\n",
       "<table border=\"1\" class=\"dataframe\">\n",
       "  <thead>\n",
       "    <tr style=\"text-align: right;\">\n",
       "      <th>categoria</th>\n",
       "      <th>alto</th>\n",
       "      <th>medio</th>\n",
       "      <th>minimo</th>\n",
       "    </tr>\n",
       "    <tr>\n",
       "      <th>jefe</th>\n",
       "      <th></th>\n",
       "      <th></th>\n",
       "      <th></th>\n",
       "    </tr>\n",
       "  </thead>\n",
       "  <tbody>\n",
       "    <tr>\n",
       "      <th>jefe</th>\n",
       "      <td>58</td>\n",
       "      <td>114</td>\n",
       "      <td>98</td>\n",
       "    </tr>\n",
       "    <tr>\n",
       "      <th>no jefe</th>\n",
       "      <td>38</td>\n",
       "      <td>104</td>\n",
       "      <td>140</td>\n",
       "    </tr>\n",
       "  </tbody>\n",
       "</table>\n",
       "</div>"
      ],
      "text/plain": [
       "categoria  alto  medio  minimo\n",
       "jefe                          \n",
       "jefe         58    114      98\n",
       "no jefe      38    104     140"
      ]
     },
     "execution_count": 71,
     "metadata": {},
     "output_type": "execute_result"
    }
   ],
   "source": [
    "pd.crosstab(df2.jefe, df2.categoria)"
   ]
  },
  {
   "cell_type": "code",
   "execution_count": 72,
   "id": "a46d5b45-92e1-4ce7-a7dd-937a815f9b36",
   "metadata": {},
   "outputs": [
    {
     "data": {
      "text/html": [
       "<div>\n",
       "<style scoped>\n",
       "    .dataframe tbody tr th:only-of-type {\n",
       "        vertical-align: middle;\n",
       "    }\n",
       "\n",
       "    .dataframe tbody tr th {\n",
       "        vertical-align: top;\n",
       "    }\n",
       "\n",
       "    .dataframe thead th {\n",
       "        text-align: right;\n",
       "    }\n",
       "</style>\n",
       "<table border=\"1\" class=\"dataframe\">\n",
       "  <thead>\n",
       "    <tr style=\"text-align: right;\">\n",
       "      <th>pluriactividad</th>\n",
       "      <th>Alterna con otro trabajo y/o estudios</th>\n",
       "      <th>Solo trabaja como delivery</th>\n",
       "    </tr>\n",
       "    <tr>\n",
       "      <th>jefe</th>\n",
       "      <th></th>\n",
       "      <th></th>\n",
       "    </tr>\n",
       "  </thead>\n",
       "  <tbody>\n",
       "    <tr>\n",
       "      <th>jefe</th>\n",
       "      <td>132</td>\n",
       "      <td>138</td>\n",
       "    </tr>\n",
       "    <tr>\n",
       "      <th>no jefe</th>\n",
       "      <td>196</td>\n",
       "      <td>86</td>\n",
       "    </tr>\n",
       "  </tbody>\n",
       "</table>\n",
       "</div>"
      ],
      "text/plain": [
       "pluriactividad  Alterna con otro trabajo y/o estudios  \\\n",
       "jefe                                                    \n",
       "jefe                                              132   \n",
       "no jefe                                           196   \n",
       "\n",
       "pluriactividad  Solo trabaja como delivery  \n",
       "jefe                                        \n",
       "jefe                                   138  \n",
       "no jefe                                 86  "
      ]
     },
     "execution_count": 72,
     "metadata": {},
     "output_type": "execute_result"
    }
   ],
   "source": [
    "pd.crosstab(df2.jefe, df2.pluriactividad)"
   ]
  },
  {
   "cell_type": "code",
   "execution_count": 73,
   "id": "ca7dd324-e662-47f4-a25b-90a88310d86e",
   "metadata": {},
   "outputs": [
    {
     "data": {
      "text/html": [
       "<div>\n",
       "<style scoped>\n",
       "    .dataframe tbody tr th:only-of-type {\n",
       "        vertical-align: middle;\n",
       "    }\n",
       "\n",
       "    .dataframe tbody tr th {\n",
       "        vertical-align: top;\n",
       "    }\n",
       "\n",
       "    .dataframe thead th {\n",
       "        text-align: right;\n",
       "    }\n",
       "</style>\n",
       "<table border=\"1\" class=\"dataframe\">\n",
       "  <thead>\n",
       "    <tr style=\"text-align: right;\">\n",
       "      <th>razones</th>\n",
       "      <th>Era un empleo temporal</th>\n",
       "      <th>Razones de la demanda</th>\n",
       "      <th>Razones económicas/ bajos ingresos</th>\n",
       "      <th>Razones personales</th>\n",
       "      <th>Renuncio</th>\n",
       "    </tr>\n",
       "    <tr>\n",
       "      <th>jefe</th>\n",
       "      <th></th>\n",
       "      <th></th>\n",
       "      <th></th>\n",
       "      <th></th>\n",
       "      <th></th>\n",
       "    </tr>\n",
       "  </thead>\n",
       "  <tbody>\n",
       "    <tr>\n",
       "      <th>jefe</th>\n",
       "      <td>26</td>\n",
       "      <td>80</td>\n",
       "      <td>59</td>\n",
       "      <td>62</td>\n",
       "      <td>38</td>\n",
       "    </tr>\n",
       "    <tr>\n",
       "      <th>no jefe</th>\n",
       "      <td>21</td>\n",
       "      <td>62</td>\n",
       "      <td>63</td>\n",
       "      <td>82</td>\n",
       "      <td>36</td>\n",
       "    </tr>\n",
       "  </tbody>\n",
       "</table>\n",
       "</div>"
      ],
      "text/plain": [
       "razones  Era un empleo temporal  Razones de la demanda  \\\n",
       "jefe                                                     \n",
       "jefe                         26                     80   \n",
       "no jefe                      21                     62   \n",
       "\n",
       "razones  Razones económicas/ bajos ingresos  Razones personales  Renuncio  \n",
       "jefe                                                                       \n",
       "jefe                                     59                  62        38  \n",
       "no jefe                                  63                  82        36  "
      ]
     },
     "execution_count": 73,
     "metadata": {},
     "output_type": "execute_result"
    }
   ],
   "source": [
    "pd.crosstab(df2.jefe, df2.razones)"
   ]
  },
  {
   "cell_type": "code",
   "execution_count": 74,
   "id": "5f1a70d5-de1e-4f1f-8152-d1001af56424",
   "metadata": {},
   "outputs": [
    {
     "data": {
      "text/html": [
       "<div>\n",
       "<style scoped>\n",
       "    .dataframe tbody tr th:only-of-type {\n",
       "        vertical-align: middle;\n",
       "    }\n",
       "\n",
       "    .dataframe tbody tr th {\n",
       "        vertical-align: top;\n",
       "    }\n",
       "\n",
       "    .dataframe thead th {\n",
       "        text-align: right;\n",
       "    }\n",
       "</style>\n",
       "<table border=\"1\" class=\"dataframe\">\n",
       "  <thead>\n",
       "    <tr style=\"text-align: right;\">\n",
       "      <th>antiguedad</th>\n",
       "      <th>1</th>\n",
       "      <th>2</th>\n",
       "      <th>3</th>\n",
       "      <th>4</th>\n",
       "    </tr>\n",
       "    <tr>\n",
       "      <th>jefe</th>\n",
       "      <th></th>\n",
       "      <th></th>\n",
       "      <th></th>\n",
       "      <th></th>\n",
       "    </tr>\n",
       "  </thead>\n",
       "  <tbody>\n",
       "    <tr>\n",
       "      <th>jefe</th>\n",
       "      <td>91</td>\n",
       "      <td>77</td>\n",
       "      <td>32</td>\n",
       "      <td>70</td>\n",
       "    </tr>\n",
       "    <tr>\n",
       "      <th>no jefe</th>\n",
       "      <td>107</td>\n",
       "      <td>98</td>\n",
       "      <td>40</td>\n",
       "      <td>37</td>\n",
       "    </tr>\n",
       "  </tbody>\n",
       "</table>\n",
       "</div>"
      ],
      "text/plain": [
       "antiguedad    1   2   3   4\n",
       "jefe                       \n",
       "jefe         91  77  32  70\n",
       "no jefe     107  98  40  37"
      ]
     },
     "execution_count": 74,
     "metadata": {},
     "output_type": "execute_result"
    }
   ],
   "source": [
    "pd.crosstab(df2.jefe, df2.antiguedad)"
   ]
  },
  {
   "cell_type": "code",
   "execution_count": 75,
   "id": "0406538b-23e1-4c7d-928a-303ea383844e",
   "metadata": {},
   "outputs": [
    {
     "data": {
      "text/html": [
       "<div>\n",
       "<style scoped>\n",
       "    .dataframe tbody tr th:only-of-type {\n",
       "        vertical-align: middle;\n",
       "    }\n",
       "\n",
       "    .dataframe tbody tr th {\n",
       "        vertical-align: top;\n",
       "    }\n",
       "\n",
       "    .dataframe thead th {\n",
       "        text-align: right;\n",
       "    }\n",
       "</style>\n",
       "<table border=\"1\" class=\"dataframe\">\n",
       "  <thead>\n",
       "    <tr style=\"text-align: right;\">\n",
       "      <th>educacion</th>\n",
       "      <th>Alto</th>\n",
       "      <th>Secundario</th>\n",
       "    </tr>\n",
       "    <tr>\n",
       "      <th>jefe</th>\n",
       "      <th></th>\n",
       "      <th></th>\n",
       "    </tr>\n",
       "  </thead>\n",
       "  <tbody>\n",
       "    <tr>\n",
       "      <th>jefe</th>\n",
       "      <td>169</td>\n",
       "      <td>101</td>\n",
       "    </tr>\n",
       "    <tr>\n",
       "      <th>no jefe</th>\n",
       "      <td>196</td>\n",
       "      <td>86</td>\n",
       "    </tr>\n",
       "  </tbody>\n",
       "</table>\n",
       "</div>"
      ],
      "text/plain": [
       "educacion  Alto  Secundario\n",
       "jefe                       \n",
       "jefe        169         101\n",
       "no jefe     196          86"
      ]
     },
     "execution_count": 75,
     "metadata": {},
     "output_type": "execute_result"
    }
   ],
   "source": [
    "pd.crosstab(df2.jefe, df2.educacion)"
   ]
  },
  {
   "cell_type": "code",
   "execution_count": 76,
   "id": "fa0fdef1-bdcb-4270-9831-2efeeccf7da3",
   "metadata": {},
   "outputs": [
    {
     "data": {
      "text/html": [
       "<div>\n",
       "<style scoped>\n",
       "    .dataframe tbody tr th:only-of-type {\n",
       "        vertical-align: middle;\n",
       "    }\n",
       "\n",
       "    .dataframe tbody tr th {\n",
       "        vertical-align: top;\n",
       "    }\n",
       "\n",
       "    .dataframe thead th {\n",
       "        text-align: right;\n",
       "    }\n",
       "</style>\n",
       "<table border=\"1\" class=\"dataframe\">\n",
       "  <thead>\n",
       "    <tr style=\"text-align: right;\">\n",
       "      <th>anterior</th>\n",
       "      <th>asalariado</th>\n",
       "      <th>no asalariado</th>\n",
       "    </tr>\n",
       "    <tr>\n",
       "      <th>jefe</th>\n",
       "      <th></th>\n",
       "      <th></th>\n",
       "    </tr>\n",
       "  </thead>\n",
       "  <tbody>\n",
       "    <tr>\n",
       "      <th>jefe</th>\n",
       "      <td>236</td>\n",
       "      <td>29</td>\n",
       "    </tr>\n",
       "    <tr>\n",
       "      <th>no jefe</th>\n",
       "      <td>227</td>\n",
       "      <td>37</td>\n",
       "    </tr>\n",
       "  </tbody>\n",
       "</table>\n",
       "</div>"
      ],
      "text/plain": [
       "anterior  asalariado  no asalariado\n",
       "jefe                               \n",
       "jefe             236             29\n",
       "no jefe          227             37"
      ]
     },
     "execution_count": 76,
     "metadata": {},
     "output_type": "execute_result"
    }
   ],
   "source": [
    "pd.crosstab(df2.jefe, df2.anterior)"
   ]
  },
  {
   "cell_type": "code",
   "execution_count": 77,
   "id": "b7145bac-a4dd-46af-82fa-9bae339ccc74",
   "metadata": {},
   "outputs": [
    {
     "data": {
      "text/html": [
       "<div>\n",
       "<style scoped>\n",
       "    .dataframe tbody tr th:only-of-type {\n",
       "        vertical-align: middle;\n",
       "    }\n",
       "\n",
       "    .dataframe tbody tr th {\n",
       "        vertical-align: top;\n",
       "    }\n",
       "\n",
       "    .dataframe thead th {\n",
       "        text-align: right;\n",
       "    }\n",
       "</style>\n",
       "<table border=\"1\" class=\"dataframe\">\n",
       "  <thead>\n",
       "    <tr style=\"text-align: right;\">\n",
       "      <th>categoria</th>\n",
       "      <th>alto</th>\n",
       "      <th>medio</th>\n",
       "      <th>minimo</th>\n",
       "    </tr>\n",
       "    <tr>\n",
       "      <th>anterior</th>\n",
       "      <th></th>\n",
       "      <th></th>\n",
       "      <th></th>\n",
       "    </tr>\n",
       "  </thead>\n",
       "  <tbody>\n",
       "    <tr>\n",
       "      <th>asalariado</th>\n",
       "      <td>71</td>\n",
       "      <td>192</td>\n",
       "      <td>200</td>\n",
       "    </tr>\n",
       "    <tr>\n",
       "      <th>no asalariado</th>\n",
       "      <td>19</td>\n",
       "      <td>19</td>\n",
       "      <td>28</td>\n",
       "    </tr>\n",
       "  </tbody>\n",
       "</table>\n",
       "</div>"
      ],
      "text/plain": [
       "categoria      alto  medio  minimo\n",
       "anterior                          \n",
       "asalariado       71    192     200\n",
       "no asalariado    19     19      28"
      ]
     },
     "execution_count": 77,
     "metadata": {},
     "output_type": "execute_result"
    }
   ],
   "source": [
    "pd.crosstab(df2.anterior, df2.categoria)"
   ]
  },
  {
   "cell_type": "code",
   "execution_count": 78,
   "id": "b8f1e824-a046-42c1-9252-7b0e045968f9",
   "metadata": {},
   "outputs": [
    {
     "data": {
      "text/html": [
       "<div>\n",
       "<style scoped>\n",
       "    .dataframe tbody tr th:only-of-type {\n",
       "        vertical-align: middle;\n",
       "    }\n",
       "\n",
       "    .dataframe tbody tr th {\n",
       "        vertical-align: top;\n",
       "    }\n",
       "\n",
       "    .dataframe thead th {\n",
       "        text-align: right;\n",
       "    }\n",
       "</style>\n",
       "<table border=\"1\" class=\"dataframe\">\n",
       "  <thead>\n",
       "    <tr style=\"text-align: right;\">\n",
       "      <th>pluriactividad</th>\n",
       "      <th>Alterna con otro trabajo y/o estudios</th>\n",
       "      <th>Solo trabaja como delivery</th>\n",
       "    </tr>\n",
       "    <tr>\n",
       "      <th>anterior</th>\n",
       "      <th></th>\n",
       "      <th></th>\n",
       "    </tr>\n",
       "  </thead>\n",
       "  <tbody>\n",
       "    <tr>\n",
       "      <th>asalariado</th>\n",
       "      <td>272</td>\n",
       "      <td>191</td>\n",
       "    </tr>\n",
       "    <tr>\n",
       "      <th>no asalariado</th>\n",
       "      <td>39</td>\n",
       "      <td>27</td>\n",
       "    </tr>\n",
       "  </tbody>\n",
       "</table>\n",
       "</div>"
      ],
      "text/plain": [
       "pluriactividad  Alterna con otro trabajo y/o estudios  \\\n",
       "anterior                                                \n",
       "asalariado                                        272   \n",
       "no asalariado                                      39   \n",
       "\n",
       "pluriactividad  Solo trabaja como delivery  \n",
       "anterior                                    \n",
       "asalariado                             191  \n",
       "no asalariado                           27  "
      ]
     },
     "execution_count": 78,
     "metadata": {},
     "output_type": "execute_result"
    }
   ],
   "source": [
    "pd.crosstab(df2.anterior, df2.pluriactividad)"
   ]
  },
  {
   "cell_type": "code",
   "execution_count": 79,
   "id": "0a4b4868-defb-4d2a-9996-056e5b62d893",
   "metadata": {},
   "outputs": [
    {
     "data": {
      "text/html": [
       "<div>\n",
       "<style scoped>\n",
       "    .dataframe tbody tr th:only-of-type {\n",
       "        vertical-align: middle;\n",
       "    }\n",
       "\n",
       "    .dataframe tbody tr th {\n",
       "        vertical-align: top;\n",
       "    }\n",
       "\n",
       "    .dataframe thead th {\n",
       "        text-align: right;\n",
       "    }\n",
       "</style>\n",
       "<table border=\"1\" class=\"dataframe\">\n",
       "  <thead>\n",
       "    <tr style=\"text-align: right;\">\n",
       "      <th>razones</th>\n",
       "      <th>Era un empleo temporal</th>\n",
       "      <th>Razones de la demanda</th>\n",
       "      <th>Razones económicas/ bajos ingresos</th>\n",
       "      <th>Razones personales</th>\n",
       "      <th>Renuncio</th>\n",
       "    </tr>\n",
       "    <tr>\n",
       "      <th>anterior</th>\n",
       "      <th></th>\n",
       "      <th></th>\n",
       "      <th></th>\n",
       "      <th></th>\n",
       "      <th></th>\n",
       "    </tr>\n",
       "  </thead>\n",
       "  <tbody>\n",
       "    <tr>\n",
       "      <th>asalariado</th>\n",
       "      <td>44</td>\n",
       "      <td>109</td>\n",
       "      <td>111</td>\n",
       "      <td>132</td>\n",
       "      <td>67</td>\n",
       "    </tr>\n",
       "    <tr>\n",
       "      <th>no asalariado</th>\n",
       "      <td>3</td>\n",
       "      <td>33</td>\n",
       "      <td>11</td>\n",
       "      <td>12</td>\n",
       "      <td>7</td>\n",
       "    </tr>\n",
       "  </tbody>\n",
       "</table>\n",
       "</div>"
      ],
      "text/plain": [
       "razones        Era un empleo temporal  Razones de la demanda  \\\n",
       "anterior                                                       \n",
       "asalariado                         44                    109   \n",
       "no asalariado                       3                     33   \n",
       "\n",
       "razones        Razones económicas/ bajos ingresos  Razones personales  \\\n",
       "anterior                                                                \n",
       "asalariado                                    111                 132   \n",
       "no asalariado                                  11                  12   \n",
       "\n",
       "razones        Renuncio  \n",
       "anterior                 \n",
       "asalariado           67  \n",
       "no asalariado         7  "
      ]
     },
     "execution_count": 79,
     "metadata": {},
     "output_type": "execute_result"
    }
   ],
   "source": [
    "pd.crosstab(df2.anterior, df2.razones)"
   ]
  },
  {
   "cell_type": "code",
   "execution_count": 80,
   "id": "48748a5c-60b3-4c65-b2c2-2b933692cd40",
   "metadata": {},
   "outputs": [
    {
     "data": {
      "text/html": [
       "<div>\n",
       "<style scoped>\n",
       "    .dataframe tbody tr th:only-of-type {\n",
       "        vertical-align: middle;\n",
       "    }\n",
       "\n",
       "    .dataframe tbody tr th {\n",
       "        vertical-align: top;\n",
       "    }\n",
       "\n",
       "    .dataframe thead th {\n",
       "        text-align: right;\n",
       "    }\n",
       "</style>\n",
       "<table border=\"1\" class=\"dataframe\">\n",
       "  <thead>\n",
       "    <tr style=\"text-align: right;\">\n",
       "      <th>antiguedad</th>\n",
       "      <th>1</th>\n",
       "      <th>2</th>\n",
       "      <th>3</th>\n",
       "      <th>4</th>\n",
       "    </tr>\n",
       "    <tr>\n",
       "      <th>anterior</th>\n",
       "      <th></th>\n",
       "      <th></th>\n",
       "      <th></th>\n",
       "      <th></th>\n",
       "    </tr>\n",
       "  </thead>\n",
       "  <tbody>\n",
       "    <tr>\n",
       "      <th>asalariado</th>\n",
       "      <td>162</td>\n",
       "      <td>155</td>\n",
       "      <td>61</td>\n",
       "      <td>85</td>\n",
       "    </tr>\n",
       "    <tr>\n",
       "      <th>no asalariado</th>\n",
       "      <td>28</td>\n",
       "      <td>14</td>\n",
       "      <td>9</td>\n",
       "      <td>15</td>\n",
       "    </tr>\n",
       "  </tbody>\n",
       "</table>\n",
       "</div>"
      ],
      "text/plain": [
       "antiguedad       1    2   3   4\n",
       "anterior                       \n",
       "asalariado     162  155  61  85\n",
       "no asalariado   28   14   9  15"
      ]
     },
     "execution_count": 80,
     "metadata": {},
     "output_type": "execute_result"
    }
   ],
   "source": [
    "pd.crosstab(df2.anterior, df2.antiguedad)"
   ]
  },
  {
   "cell_type": "code",
   "execution_count": 81,
   "id": "f4d3dfed-bdba-4945-9172-efa35a0327ea",
   "metadata": {},
   "outputs": [
    {
     "data": {
      "text/html": [
       "<div>\n",
       "<style scoped>\n",
       "    .dataframe tbody tr th:only-of-type {\n",
       "        vertical-align: middle;\n",
       "    }\n",
       "\n",
       "    .dataframe tbody tr th {\n",
       "        vertical-align: top;\n",
       "    }\n",
       "\n",
       "    .dataframe thead th {\n",
       "        text-align: right;\n",
       "    }\n",
       "</style>\n",
       "<table border=\"1\" class=\"dataframe\">\n",
       "  <thead>\n",
       "    <tr style=\"text-align: right;\">\n",
       "      <th>educacion</th>\n",
       "      <th>Alto</th>\n",
       "      <th>Secundario</th>\n",
       "    </tr>\n",
       "    <tr>\n",
       "      <th>anterior</th>\n",
       "      <th></th>\n",
       "      <th></th>\n",
       "    </tr>\n",
       "  </thead>\n",
       "  <tbody>\n",
       "    <tr>\n",
       "      <th>asalariado</th>\n",
       "      <td>307</td>\n",
       "      <td>156</td>\n",
       "    </tr>\n",
       "    <tr>\n",
       "      <th>no asalariado</th>\n",
       "      <td>40</td>\n",
       "      <td>26</td>\n",
       "    </tr>\n",
       "  </tbody>\n",
       "</table>\n",
       "</div>"
      ],
      "text/plain": [
       "educacion      Alto  Secundario\n",
       "anterior                       \n",
       "asalariado      307         156\n",
       "no asalariado    40          26"
      ]
     },
     "execution_count": 81,
     "metadata": {},
     "output_type": "execute_result"
    }
   ],
   "source": [
    "pd.crosstab(df2.anterior, df2.educacion)"
   ]
  },
  {
   "cell_type": "code",
   "execution_count": 82,
   "id": "272a7c3d-857a-43bf-bf28-e91bd4df5fd3",
   "metadata": {},
   "outputs": [
    {
     "data": {
      "text/html": [
       "<div>\n",
       "<style scoped>\n",
       "    .dataframe tbody tr th:only-of-type {\n",
       "        vertical-align: middle;\n",
       "    }\n",
       "\n",
       "    .dataframe tbody tr th {\n",
       "        vertical-align: top;\n",
       "    }\n",
       "\n",
       "    .dataframe thead th {\n",
       "        text-align: right;\n",
       "    }\n",
       "</style>\n",
       "<table border=\"1\" class=\"dataframe\">\n",
       "  <thead>\n",
       "    <tr style=\"text-align: right;\">\n",
       "      <th>jefe</th>\n",
       "      <th>jefe</th>\n",
       "      <th>no jefe</th>\n",
       "    </tr>\n",
       "    <tr>\n",
       "      <th>anterior</th>\n",
       "      <th></th>\n",
       "      <th></th>\n",
       "    </tr>\n",
       "  </thead>\n",
       "  <tbody>\n",
       "    <tr>\n",
       "      <th>asalariado</th>\n",
       "      <td>236</td>\n",
       "      <td>227</td>\n",
       "    </tr>\n",
       "    <tr>\n",
       "      <th>no asalariado</th>\n",
       "      <td>29</td>\n",
       "      <td>37</td>\n",
       "    </tr>\n",
       "  </tbody>\n",
       "</table>\n",
       "</div>"
      ],
      "text/plain": [
       "jefe           jefe  no jefe\n",
       "anterior                    \n",
       "asalariado      236      227\n",
       "no asalariado    29       37"
      ]
     },
     "execution_count": 82,
     "metadata": {},
     "output_type": "execute_result"
    }
   ],
   "source": [
    "pd.crosstab(df2.anterior, df2.jefe)"
   ]
  },
  {
   "cell_type": "code",
   "execution_count": 83,
   "id": "19fd5b08-51d8-4c60-a27b-da08eb6dfef7",
   "metadata": {},
   "outputs": [],
   "source": [
    "def a(edad):\n",
    "    if edad == 18 or edad == 19 or edad == 20 or edad == 21 or edad == 22 or edad == 23 or edad == 24 or edad == 25 or edad == 26 or edad == 27 or edad == 28 or edad == 29:\n",
    "        return 'edad entre 18-29'\n",
    "    else:\n",
    "        return 'mayores de 30'"
   ]
  },
  {
   "cell_type": "code",
   "execution_count": 85,
   "id": "9303a257-2f2b-4f49-87cd-cf16f5323f24",
   "metadata": {},
   "outputs": [
    {
     "name": "stderr",
     "output_type": "stream",
     "text": [
      "C:\\Users\\CAleman\\AppData\\Local\\Temp\\ipykernel_11996\\1001020082.py:1: SettingWithCopyWarning: \n",
      "A value is trying to be set on a copy of a slice from a DataFrame.\n",
      "Try using .loc[row_indexer,col_indexer] = value instead\n",
      "\n",
      "See the caveats in the documentation: https://pandas.pydata.org/pandas-docs/stable/user_guide/indexing.html#returning-a-view-versus-a-copy\n",
      "  df2['edad'] = df2['edad'].apply(a)\n"
     ]
    }
   ],
   "source": [
    "df2['edad'] = df2['edad'].apply(a)"
   ]
  },
  {
   "cell_type": "code",
   "execution_count": 86,
   "id": "e53b3e3a-6149-4cfa-8b2a-a02f274f107d",
   "metadata": {},
   "outputs": [
    {
     "data": {
      "text/html": [
       "<div>\n",
       "<style scoped>\n",
       "    .dataframe tbody tr th:only-of-type {\n",
       "        vertical-align: middle;\n",
       "    }\n",
       "\n",
       "    .dataframe tbody tr th {\n",
       "        vertical-align: top;\n",
       "    }\n",
       "\n",
       "    .dataframe thead th {\n",
       "        text-align: right;\n",
       "    }\n",
       "</style>\n",
       "<table border=\"1\" class=\"dataframe\">\n",
       "  <thead>\n",
       "    <tr style=\"text-align: right;\">\n",
       "      <th>categoria</th>\n",
       "      <th>alto</th>\n",
       "      <th>medio</th>\n",
       "      <th>minimo</th>\n",
       "    </tr>\n",
       "    <tr>\n",
       "      <th>edad</th>\n",
       "      <th></th>\n",
       "      <th></th>\n",
       "      <th></th>\n",
       "    </tr>\n",
       "  </thead>\n",
       "  <tbody>\n",
       "    <tr>\n",
       "      <th>edad entre 18-29</th>\n",
       "      <td>64</td>\n",
       "      <td>161</td>\n",
       "      <td>178</td>\n",
       "    </tr>\n",
       "    <tr>\n",
       "      <th>mayores de 30</th>\n",
       "      <td>32</td>\n",
       "      <td>57</td>\n",
       "      <td>60</td>\n",
       "    </tr>\n",
       "  </tbody>\n",
       "</table>\n",
       "</div>"
      ],
      "text/plain": [
       "categoria         alto  medio  minimo\n",
       "edad                                 \n",
       "edad entre 18-29    64    161     178\n",
       "mayores de 30       32     57      60"
      ]
     },
     "execution_count": 86,
     "metadata": {},
     "output_type": "execute_result"
    }
   ],
   "source": [
    "pd.crosstab(df2.edad, df2.categoria)"
   ]
  },
  {
   "cell_type": "code",
   "execution_count": 87,
   "id": "a5a6eb36-a253-4159-ad95-34d6d7091a86",
   "metadata": {},
   "outputs": [
    {
     "data": {
      "text/html": [
       "<div>\n",
       "<style scoped>\n",
       "    .dataframe tbody tr th:only-of-type {\n",
       "        vertical-align: middle;\n",
       "    }\n",
       "\n",
       "    .dataframe tbody tr th {\n",
       "        vertical-align: top;\n",
       "    }\n",
       "\n",
       "    .dataframe thead th {\n",
       "        text-align: right;\n",
       "    }\n",
       "</style>\n",
       "<table border=\"1\" class=\"dataframe\">\n",
       "  <thead>\n",
       "    <tr style=\"text-align: right;\">\n",
       "      <th>pluriactividad</th>\n",
       "      <th>Alterna con otro trabajo y/o estudios</th>\n",
       "      <th>Solo trabaja como delivery</th>\n",
       "    </tr>\n",
       "    <tr>\n",
       "      <th>edad</th>\n",
       "      <th></th>\n",
       "      <th></th>\n",
       "    </tr>\n",
       "  </thead>\n",
       "  <tbody>\n",
       "    <tr>\n",
       "      <th>edad entre 18-29</th>\n",
       "      <td>250</td>\n",
       "      <td>153</td>\n",
       "    </tr>\n",
       "    <tr>\n",
       "      <th>mayores de 30</th>\n",
       "      <td>78</td>\n",
       "      <td>71</td>\n",
       "    </tr>\n",
       "  </tbody>\n",
       "</table>\n",
       "</div>"
      ],
      "text/plain": [
       "pluriactividad    Alterna con otro trabajo y/o estudios  \\\n",
       "edad                                                      \n",
       "edad entre 18-29                                    250   \n",
       "mayores de 30                                        78   \n",
       "\n",
       "pluriactividad    Solo trabaja como delivery  \n",
       "edad                                          \n",
       "edad entre 18-29                         153  \n",
       "mayores de 30                             71  "
      ]
     },
     "execution_count": 87,
     "metadata": {},
     "output_type": "execute_result"
    }
   ],
   "source": [
    "pd.crosstab(df2.edad, df2.pluriactividad)"
   ]
  },
  {
   "cell_type": "code",
   "execution_count": 88,
   "id": "02f0e184-4dd1-483e-b81d-f3413d3c2567",
   "metadata": {},
   "outputs": [
    {
     "data": {
      "text/html": [
       "<div>\n",
       "<style scoped>\n",
       "    .dataframe tbody tr th:only-of-type {\n",
       "        vertical-align: middle;\n",
       "    }\n",
       "\n",
       "    .dataframe tbody tr th {\n",
       "        vertical-align: top;\n",
       "    }\n",
       "\n",
       "    .dataframe thead th {\n",
       "        text-align: right;\n",
       "    }\n",
       "</style>\n",
       "<table border=\"1\" class=\"dataframe\">\n",
       "  <thead>\n",
       "    <tr style=\"text-align: right;\">\n",
       "      <th>razones</th>\n",
       "      <th>Era un empleo temporal</th>\n",
       "      <th>Razones de la demanda</th>\n",
       "      <th>Razones económicas/ bajos ingresos</th>\n",
       "      <th>Razones personales</th>\n",
       "      <th>Renuncio</th>\n",
       "    </tr>\n",
       "    <tr>\n",
       "      <th>edad</th>\n",
       "      <th></th>\n",
       "      <th></th>\n",
       "      <th></th>\n",
       "      <th></th>\n",
       "      <th></th>\n",
       "    </tr>\n",
       "  </thead>\n",
       "  <tbody>\n",
       "    <tr>\n",
       "      <th>edad entre 18-29</th>\n",
       "      <td>34</td>\n",
       "      <td>80</td>\n",
       "      <td>100</td>\n",
       "      <td>112</td>\n",
       "      <td>55</td>\n",
       "    </tr>\n",
       "    <tr>\n",
       "      <th>mayores de 30</th>\n",
       "      <td>13</td>\n",
       "      <td>62</td>\n",
       "      <td>22</td>\n",
       "      <td>32</td>\n",
       "      <td>19</td>\n",
       "    </tr>\n",
       "  </tbody>\n",
       "</table>\n",
       "</div>"
      ],
      "text/plain": [
       "razones           Era un empleo temporal  Razones de la demanda  \\\n",
       "edad                                                              \n",
       "edad entre 18-29                      34                     80   \n",
       "mayores de 30                         13                     62   \n",
       "\n",
       "razones           Razones económicas/ bajos ingresos  Razones personales  \\\n",
       "edad                                                                       \n",
       "edad entre 18-29                                 100                 112   \n",
       "mayores de 30                                     22                  32   \n",
       "\n",
       "razones           Renuncio  \n",
       "edad                        \n",
       "edad entre 18-29        55  \n",
       "mayores de 30           19  "
      ]
     },
     "execution_count": 88,
     "metadata": {},
     "output_type": "execute_result"
    }
   ],
   "source": [
    "pd.crosstab(df2.edad, df2.razones)"
   ]
  },
  {
   "cell_type": "code",
   "execution_count": null,
   "id": "58bd37c1-7c9e-4b3c-baa0-98cb1d939ea5",
   "metadata": {},
   "outputs": [],
   "source": [
    "pd.crosstab(df2.edad, df2.antiguedad)"
   ]
  },
  {
   "cell_type": "code",
   "execution_count": null,
   "id": "7a2cec51-8bd3-4203-aca6-4a58dee9ebf6",
   "metadata": {},
   "outputs": [],
   "source": [
    "pd.crosstab(df2.edad, df2.educacion)"
   ]
  },
  {
   "cell_type": "code",
   "execution_count": null,
   "id": "345fdf76-d671-4d6d-8b7e-a68c8b857960",
   "metadata": {},
   "outputs": [],
   "source": [
    "pd.crosstab(df2.edad, df2.jefe)"
   ]
  },
  {
   "cell_type": "code",
   "execution_count": null,
   "id": "c6a80736-0a70-47f9-9317-f8bcb4eaafe1",
   "metadata": {},
   "outputs": [],
   "source": [
    "pd.crosstab(df2.edad, df2.anterior)"
   ]
  },
  {
   "cell_type": "code",
   "execution_count": null,
   "id": "46276604-4714-41dc-aacc-27b3e5a93dc4",
   "metadata": {},
   "outputs": [],
   "source": [
    "pd.crosstab(df2.anterior, df2.edad)"
   ]
  },
  {
   "cell_type": "code",
   "execution_count": null,
   "id": "a20d6f06-0acc-4d64-bcb9-9ec65560f802",
   "metadata": {},
   "outputs": [],
   "source": [
    "pd.crosstab(df2.educacion, df2.edad)"
   ]
  },
  {
   "cell_type": "code",
   "execution_count": null,
   "id": "00c6702c-dd74-4209-bb1d-e571a41e78ec",
   "metadata": {},
   "outputs": [],
   "source": [
    "pd.crosstab(df2.jefe, df2.edad)"
   ]
  },
  {
   "cell_type": "code",
   "execution_count": null,
   "id": "ce114643-9707-41d2-b698-24d2a71fa289",
   "metadata": {},
   "outputs": [],
   "source": [
    "df2"
   ]
  },
  {
   "cell_type": "code",
   "execution_count": null,
   "id": "30284e15-bb60-4a3b-a8e3-94fe2e2abe0d",
   "metadata": {},
   "outputs": [],
   "source": [
    "pd.crosstab(df2.edad, df2.categoria)"
   ]
  },
  {
   "cell_type": "code",
   "execution_count": null,
   "id": "a7f7bb82-5376-40c8-9f02-64ea20dabdfe",
   "metadata": {},
   "outputs": [],
   "source": [
    "pd.crosstab(df2.edad, df2.pluriactividad)"
   ]
  },
  {
   "cell_type": "code",
   "execution_count": null,
   "id": "e57bd820-bfd0-4618-9a51-324e511d73e7",
   "metadata": {},
   "outputs": [],
   "source": [
    "pd.crosstab(df2.edad, df2.razones)"
   ]
  },
  {
   "cell_type": "code",
   "execution_count": null,
   "id": "d2238b80-070d-462a-831e-00d76b350750",
   "metadata": {},
   "outputs": [],
   "source": [
    "pd.crosstab(df2.edad, df2.antiguedad)"
   ]
  },
  {
   "cell_type": "code",
   "execution_count": null,
   "id": "692d4ea0-994f-4fc8-97c4-7818e32568e0",
   "metadata": {},
   "outputs": [],
   "source": [
    "pd.crosstab(df2.edad, df2.educacion)"
   ]
  },
  {
   "cell_type": "code",
   "execution_count": null,
   "id": "10d68823-ff3f-48f5-a6ab-2edaad3f5a60",
   "metadata": {},
   "outputs": [],
   "source": [
    "pd.crosstab(df2.edad, df2.jefe)"
   ]
  },
  {
   "cell_type": "code",
   "execution_count": null,
   "id": "5a2d2d7e-15cf-407d-a125-d29550181cdd",
   "metadata": {},
   "outputs": [],
   "source": [
    "pd.crosstab(df2.edad, df2.anterior)"
   ]
  },
  {
   "cell_type": "code",
   "execution_count": null,
   "id": "4e377708-b7c2-46a3-a38e-5383854e1c92",
   "metadata": {},
   "outputs": [],
   "source": [
    "pd.crosstab(df2.anterior, df2.edad)"
   ]
  },
  {
   "cell_type": "code",
   "execution_count": null,
   "id": "6586fd01-782b-4496-b6f2-c83870ae92a9",
   "metadata": {},
   "outputs": [],
   "source": [
    "pd.crosstab(df2.educacion, df2.edad)"
   ]
  },
  {
   "cell_type": "code",
   "execution_count": null,
   "id": "277e25c6-bfa6-4065-b9ba-7d3e08b90d7b",
   "metadata": {},
   "outputs": [],
   "source": [
    "pd.crosstab(df2.jefe, df2.edad)"
   ]
  },
  {
   "cell_type": "code",
   "execution_count": null,
   "id": "63da170d-3503-489d-95bd-ef2cb1dde2fa",
   "metadata": {},
   "outputs": [],
   "source": [
    "pd.crosstab(df2.menores, df2.categoria)"
   ]
  },
  {
   "cell_type": "code",
   "execution_count": null,
   "id": "c4a00ccc-b25f-4b61-a61a-3518fe271fb0",
   "metadata": {},
   "outputs": [],
   "source": [
    "pd.crosstab(df2.menores, df2.pluriactividad)"
   ]
  },
  {
   "cell_type": "code",
   "execution_count": null,
   "id": "02126240-692a-49f0-beeb-3111e1a5b7b4",
   "metadata": {},
   "outputs": [],
   "source": [
    "pd.crosstab(df2.menores, df2.anterior)"
   ]
  },
  {
   "cell_type": "code",
   "execution_count": null,
   "id": "b2b1ff50-71ef-41c7-9f7b-891db03913fc",
   "metadata": {},
   "outputs": [],
   "source": [
    "pd.crosstab(df2.menores, df2.educacion)"
   ]
  },
  {
   "cell_type": "code",
   "execution_count": null,
   "id": "be97b580-e7ea-417f-9fc9-24b873df7709",
   "metadata": {},
   "outputs": [],
   "source": [
    "pd.crosstab(df2.menores, df2.jefe)"
   ]
  },
  {
   "cell_type": "code",
   "execution_count": null,
   "id": "30955646-642f-478e-8324-26a32408ea0e",
   "metadata": {},
   "outputs": [],
   "source": [
    "pd.crosstab(df2.menores, df2.razones)"
   ]
  },
  {
   "cell_type": "code",
   "execution_count": null,
   "id": "c6e53100-2bdf-4da4-9789-da0cbf1dc143",
   "metadata": {},
   "outputs": [],
   "source": [
    "pd.crosstab(df2.menores, df2.edad)"
   ]
  },
  {
   "cell_type": "code",
   "execution_count": null,
   "id": "d0197233-60b4-4db9-acc6-faefc3daa03b",
   "metadata": {},
   "outputs": [],
   "source": [
    "pd.crosstab(df2.menores, df2.antiguedad)"
   ]
  },
  {
   "cell_type": "code",
   "execution_count": null,
   "id": "378ac79a-07c5-4c22-b6f0-9c57ca8c1468",
   "metadata": {},
   "outputs": [],
   "source": [
    "pd.crosstab(df2.dependencia, df2.categoria)"
   ]
  },
  {
   "cell_type": "code",
   "execution_count": null,
   "id": "c4ba1630-a5fc-4d10-b347-b666b3d71b21",
   "metadata": {},
   "outputs": [],
   "source": [
    "pd.crosstab(df2.dependencia, df2.edad)"
   ]
  },
  {
   "cell_type": "code",
   "execution_count": null,
   "id": "aa0dd755-1da4-4867-bdfc-1eff51c5d30b",
   "metadata": {},
   "outputs": [],
   "source": [
    "pd.crosstab(df2.dependencia, df2.categoria)"
   ]
  },
  {
   "cell_type": "code",
   "execution_count": null,
   "id": "4a0e5ebc-ea4c-4107-bca5-01d374fa3827",
   "metadata": {},
   "outputs": [],
   "source": [
    "pd.crosstab(df2.dependencia, df2.pluriactividad)"
   ]
  },
  {
   "cell_type": "code",
   "execution_count": null,
   "id": "ab9d538d-6ca0-40ed-a3e0-e8d975c1a616",
   "metadata": {},
   "outputs": [],
   "source": [
    "pd.crosstab(df2.dependencia, df2.anterior)"
   ]
  },
  {
   "cell_type": "code",
   "execution_count": null,
   "id": "b7d2a821-b493-429d-ab01-38f077699ea6",
   "metadata": {},
   "outputs": [],
   "source": [
    "pd.crosstab(df2.dependencia, df2.antiguedad)"
   ]
  },
  {
   "cell_type": "code",
   "execution_count": null,
   "id": "c77c53ce-48ae-442f-8709-b364b290b645",
   "metadata": {},
   "outputs": [],
   "source": [
    "pd.crosstab(df2.dependencia, df2.educacion)"
   ]
  },
  {
   "cell_type": "code",
   "execution_count": null,
   "id": "0928ddf8-9ce2-4da9-99f3-59061648afb2",
   "metadata": {},
   "outputs": [],
   "source": [
    "pd.crosstab(df2.dependencia, df2.jefe)"
   ]
  },
  {
   "cell_type": "code",
   "execution_count": null,
   "id": "d094c894-df9a-43b8-9526-e3d5141d094e",
   "metadata": {},
   "outputs": [],
   "source": [
    "pd.crosstab(df2.dependencia, df2.razones)"
   ]
  },
  {
   "cell_type": "code",
   "execution_count": null,
   "id": "e54d3f05-2f2c-4b49-bec5-4672401dd3ac",
   "metadata": {},
   "outputs": [
    {
     "data": {
      "text/plain": [
       "0      Empleado\n",
       "1      Empleado\n",
       "2        Obrero\n",
       "3      Empleado\n",
       "4      Empleado\n",
       "         ...   \n",
       "547    Empleado\n",
       "548    Empleado\n",
       "549      Obrero\n",
       "550    Empleado\n",
       "551         NaN\n",
       "Name: p12, Length: 552, dtype: category\n",
       "Categories (6, object): ['Dueño, socio o empleador', 'Empleado', 'Obrero', 'Profesional independiente/ Consultor', 'Trabajador por cuenta propia (independiente)', 'Trabajador/ familiar/ aprendiz sin remuneración']"
      ]
     },
     "execution_count": 83,
     "metadata": {},
     "output_type": "execute_result"
    }
   ],
   "source": [
    "df[\"p12\"]"
   ]
  },
  {
   "cell_type": "code",
   "execution_count": null,
   "id": "8e5e1628",
   "metadata": {},
   "outputs": [
    {
     "data": {
      "text/plain": [
       "0           Empleado\n",
       "1           Empleado\n",
       "2             Obrero\n",
       "3           Empleado\n",
       "4           Empleado\n",
       "           ...      \n",
       "547         Empleado\n",
       "548         Empleado\n",
       "549           Obrero\n",
       "550         Empleado\n",
       "551    Primertrabajo\n",
       "Name: p12, Length: 552, dtype: category\n",
       "Categories (7, object): ['Dueño, socio o empleador', 'Empleado', 'Obrero', 'Profesional independiente/ Consultor', 'Trabajador por cuenta propia (independiente)', 'Trabajador/ familiar/ aprendiz sin remuneración', 'Primertrabajo']"
      ]
     },
     "execution_count": 84,
     "metadata": {},
     "output_type": "execute_result"
    }
   ],
   "source": [
    "df['p12']=df['p12'].cat.add_categories('Primertrabajo').fillna('Primertrabajo')\n",
    "df['p12']"
   ]
  },
  {
   "cell_type": "code",
   "execution_count": null,
   "id": "44a5022a",
   "metadata": {},
   "outputs": [],
   "source": [
    "df['PrimeroTrabajo']=df['p12']"
   ]
  },
  {
   "cell_type": "code",
   "execution_count": null,
   "id": "efb09839",
   "metadata": {},
   "outputs": [
    {
     "data": {
      "text/plain": [
       "0           Empleado\n",
       "1           Empleado\n",
       "2             Obrero\n",
       "3           Empleado\n",
       "4           Empleado\n",
       "           ...      \n",
       "547         Empleado\n",
       "548         Empleado\n",
       "549           Obrero\n",
       "550         Empleado\n",
       "551    Primertrabajo\n",
       "Name: PrimeroTrabajo, Length: 552, dtype: category\n",
       "Categories (7, object): ['Dueño, socio o empleador', 'Empleado', 'Obrero', 'Profesional independiente/ Consultor', 'Trabajador por cuenta propia (independiente)', 'Trabajador/ familiar/ aprendiz sin remuneración', 'Primertrabajo']"
      ]
     },
     "execution_count": 142,
     "metadata": {},
     "output_type": "execute_result"
    }
   ],
   "source": [
    "df['PrimeroTrabajo']"
   ]
  },
  {
   "cell_type": "code",
   "execution_count": null,
   "id": "7e40cdf3",
   "metadata": {},
   "outputs": [
    {
     "data": {
      "text/plain": [
       "Empleado                                           388\n",
       "Obrero                                              74\n",
       "Trabajador por cuenta propia (independiente)        47\n",
       "Primertrabajo                                       23\n",
       "Dueño, socio o empleador                            12\n",
       "Trabajador/ familiar/ aprendiz sin remuneración      7\n",
       "Profesional independiente/ Consultor                 1\n",
       "Name: PrimeroTrabajo, dtype: int64"
      ]
     },
     "execution_count": 144,
     "metadata": {},
     "output_type": "execute_result"
    }
   ],
   "source": [
    "df['PrimeroTrabajo'].value_counts()"
   ]
  },
  {
   "cell_type": "code",
   "execution_count": null,
   "id": "3d157281",
   "metadata": {},
   "outputs": [],
   "source": [
    "def a(PrimeroTrabajo):\n",
    "    if PrimeroTrabajo == 'Primertrabajo':\n",
    "        return 'Primer trabajo'\n",
    "    else:\n",
    "        return'Tenia Trabajo'"
   ]
  },
  {
   "cell_type": "code",
   "execution_count": null,
   "id": "79d98de6",
   "metadata": {},
   "outputs": [],
   "source": [
    "df['PrimeroTrabajo'] = df['PrimeroTrabajo'].apply(a)"
   ]
  },
  {
   "cell_type": "code",
   "execution_count": null,
   "id": "cea58a8e",
   "metadata": {},
   "outputs": [
    {
     "data": {
      "text/plain": [
       "0       Tenia Trabajo\n",
       "1       Tenia Trabajo\n",
       "2       Tenia Trabajo\n",
       "3       Tenia Trabajo\n",
       "4       Tenia Trabajo\n",
       "            ...      \n",
       "547     Tenia Trabajo\n",
       "548     Tenia Trabajo\n",
       "549     Tenia Trabajo\n",
       "550     Tenia Trabajo\n",
       "551    Primer trabajo\n",
       "Name: PrimeroTrabajo, Length: 552, dtype: object"
      ]
     },
     "execution_count": 150,
     "metadata": {},
     "output_type": "execute_result"
    }
   ],
   "source": [
    "df['PrimeroTrabajo']"
   ]
  },
  {
   "cell_type": "code",
   "execution_count": null,
   "id": "7886eb0d-3948-49f9-8941-2e5759801ebf",
   "metadata": {},
   "outputs": [
    {
     "data": {
      "image/png": "[encoded data removed]",
      "text/plain": [
       "<Figure size 1000x600 with 1 Axes>"
      ]
     },
     "metadata": {},
     "output_type": "display_data"
    }
   ],
   "source": [
    "\n",
    "plt.figure(figsize=(10, 6))\n",
    "lista_con_elementos = ['96%', '4%']\n",
    "ax = sns.histplot(data=df, x='PrimeroTrabajo', shrink=0.5, stat=\"percent\")\n",
    "\n",
    "plt.title('Primer trabajo del delivery')\n",
    "plt.xlabel(\"\")\n",
    "plt.ylabel(\"\")\n",
    "for i in range(len(lista_con_elementos)):\n",
    "    plt.annotate(\n",
    "        text=lista_con_elementos[i],\n",
    "        xy=(i, ax.patches[i].get_height()),  \n",
    "        xycoords='data',\n",
    "        fontsize=12,\n",
    "        ha='center', \n",
    "    \n",
    "    )\n",
    "\n",
    "plt.show()\n",
    "\n"
   ]
  },
  {
   "cell_type": "code",
   "execution_count": null,
   "id": "ec1fe53c",
   "metadata": {},
   "outputs": [
    {
     "data": {
      "text/html": [
       "<div>\n",
       "<style scoped>\n",
       "    .dataframe tbody tr th:only-of-type {\n",
       "        vertical-align: middle;\n",
       "    }\n",
       "\n",
       "    .dataframe tbody tr th {\n",
       "        vertical-align: top;\n",
       "    }\n",
       "\n",
       "    .dataframe thead th {\n",
       "        text-align: right;\n",
       "    }\n",
       "</style>\n",
       "<table border=\"1\" class=\"dataframe\">\n",
       "  <thead>\n",
       "    <tr style=\"text-align: right;\">\n",
       "      <th></th>\n",
       "      <th>edad</th>\n",
       "      <th>razones</th>\n",
       "      <th>pluriactividad</th>\n",
       "      <th>antiguedad</th>\n",
       "      <th>ingresor</th>\n",
       "      <th>categoria</th>\n",
       "      <th>educacion</th>\n",
       "      <th>jefe</th>\n",
       "      <th>anterior</th>\n",
       "      <th>menores</th>\n",
       "      <th>dependencia</th>\n",
       "    </tr>\n",
       "  </thead>\n",
       "  <tbody>\n",
       "    <tr>\n",
       "      <th>0</th>\n",
       "      <td>22</td>\n",
       "      <td>Razones económicas/ bajos ingresos</td>\n",
       "      <td>Alterna con otro trabajo y/o estudios</td>\n",
       "      <td>1</td>\n",
       "      <td>1517.0</td>\n",
       "      <td>minimo</td>\n",
       "      <td>Alto</td>\n",
       "      <td>jefe</td>\n",
       "      <td>asalariado</td>\n",
       "      <td>ninguno</td>\n",
       "      <td>Hasta dos</td>\n",
       "    </tr>\n",
       "    <tr>\n",
       "      <th>1</th>\n",
       "      <td>25</td>\n",
       "      <td>Razones de la demanda</td>\n",
       "      <td>Alterna con otro trabajo y/o estudios</td>\n",
       "      <td>4</td>\n",
       "      <td>4100.0</td>\n",
       "      <td>medio</td>\n",
       "      <td>Alto</td>\n",
       "      <td>no jefe</td>\n",
       "      <td>asalariado</td>\n",
       "      <td>ninguno</td>\n",
       "      <td>Nadie</td>\n",
       "    </tr>\n",
       "    <tr>\n",
       "      <th>2</th>\n",
       "      <td>24</td>\n",
       "      <td>Renuncio</td>\n",
       "      <td>Solo trabaja como delivery</td>\n",
       "      <td>3</td>\n",
       "      <td>3890.0</td>\n",
       "      <td>medio</td>\n",
       "      <td>Secundario</td>\n",
       "      <td>jefe</td>\n",
       "      <td>asalariado</td>\n",
       "      <td>menores en el hogar</td>\n",
       "      <td>Mas de dos</td>\n",
       "    </tr>\n",
       "    <tr>\n",
       "      <th>3</th>\n",
       "      <td>27</td>\n",
       "      <td>Razones de la demanda</td>\n",
       "      <td>Alterna con otro trabajo y/o estudios</td>\n",
       "      <td>3</td>\n",
       "      <td>3300.0</td>\n",
       "      <td>medio</td>\n",
       "      <td>Alto</td>\n",
       "      <td>no jefe</td>\n",
       "      <td>asalariado</td>\n",
       "      <td>ninguno</td>\n",
       "      <td>Nadie</td>\n",
       "    </tr>\n",
       "    <tr>\n",
       "      <th>4</th>\n",
       "      <td>27</td>\n",
       "      <td>Renuncio</td>\n",
       "      <td>Alterna con otro trabajo y/o estudios</td>\n",
       "      <td>4</td>\n",
       "      <td>3750.0</td>\n",
       "      <td>medio</td>\n",
       "      <td>Alto</td>\n",
       "      <td>no jefe</td>\n",
       "      <td>asalariado</td>\n",
       "      <td>ninguno</td>\n",
       "      <td>Nadie</td>\n",
       "    </tr>\n",
       "    <tr>\n",
       "      <th>...</th>\n",
       "      <td>...</td>\n",
       "      <td>...</td>\n",
       "      <td>...</td>\n",
       "      <td>...</td>\n",
       "      <td>...</td>\n",
       "      <td>...</td>\n",
       "      <td>...</td>\n",
       "      <td>...</td>\n",
       "      <td>...</td>\n",
       "      <td>...</td>\n",
       "      <td>...</td>\n",
       "    </tr>\n",
       "    <tr>\n",
       "      <th>547</th>\n",
       "      <td>28</td>\n",
       "      <td>Razones de la demanda</td>\n",
       "      <td>Alterna con otro trabajo y/o estudios</td>\n",
       "      <td>4</td>\n",
       "      <td>2095.0</td>\n",
       "      <td>minimo</td>\n",
       "      <td>Alto</td>\n",
       "      <td>jefe</td>\n",
       "      <td>asalariado</td>\n",
       "      <td>ninguno</td>\n",
       "      <td>Hasta dos</td>\n",
       "    </tr>\n",
       "    <tr>\n",
       "      <th>548</th>\n",
       "      <td>22</td>\n",
       "      <td>Razones de la demanda</td>\n",
       "      <td>Solo trabaja como delivery</td>\n",
       "      <td>1</td>\n",
       "      <td>1740.0</td>\n",
       "      <td>minimo</td>\n",
       "      <td>Secundario</td>\n",
       "      <td>NaN</td>\n",
       "      <td>asalariado</td>\n",
       "      <td>ninguno</td>\n",
       "      <td>Nadie</td>\n",
       "    </tr>\n",
       "    <tr>\n",
       "      <th>549</th>\n",
       "      <td>20</td>\n",
       "      <td>Razones personales</td>\n",
       "      <td>Alterna con otro trabajo y/o estudios</td>\n",
       "      <td>2</td>\n",
       "      <td>1765.0</td>\n",
       "      <td>minimo</td>\n",
       "      <td>Alto</td>\n",
       "      <td>NaN</td>\n",
       "      <td>asalariado</td>\n",
       "      <td>ninguno</td>\n",
       "      <td>Nadie</td>\n",
       "    </tr>\n",
       "    <tr>\n",
       "      <th>550</th>\n",
       "      <td>37</td>\n",
       "      <td>Razones de la demanda</td>\n",
       "      <td>Solo trabaja como delivery</td>\n",
       "      <td>1</td>\n",
       "      <td>3338.0</td>\n",
       "      <td>medio</td>\n",
       "      <td>Alto</td>\n",
       "      <td>jefe</td>\n",
       "      <td>asalariado</td>\n",
       "      <td>ninguno</td>\n",
       "      <td>Hasta dos</td>\n",
       "    </tr>\n",
       "    <tr>\n",
       "      <th>551</th>\n",
       "      <td>30</td>\n",
       "      <td>NaN</td>\n",
       "      <td>Alterna con otro trabajo y/o estudios</td>\n",
       "      <td>4</td>\n",
       "      <td>3190.0</td>\n",
       "      <td>medio</td>\n",
       "      <td>Alto</td>\n",
       "      <td>jefe</td>\n",
       "      <td>NaN</td>\n",
       "      <td>menores en el hogar</td>\n",
       "      <td>Hasta dos</td>\n",
       "    </tr>\n",
       "  </tbody>\n",
       "</table>\n",
       "<p>552 rows × 11 columns</p>\n",
       "</div>"
      ],
      "text/plain": [
       "     edad                             razones  \\\n",
       "0      22  Razones económicas/ bajos ingresos   \n",
       "1      25               Razones de la demanda   \n",
       "2      24                            Renuncio   \n",
       "3      27               Razones de la demanda   \n",
       "4      27                            Renuncio   \n",
       "..    ...                                 ...   \n",
       "547    28               Razones de la demanda   \n",
       "548    22               Razones de la demanda   \n",
       "549    20                  Razones personales   \n",
       "550    37               Razones de la demanda   \n",
       "551    30                                 NaN   \n",
       "\n",
       "                            pluriactividad  antiguedad  ingresor categoria  \\\n",
       "0    Alterna con otro trabajo y/o estudios           1    1517.0    minimo   \n",
       "1    Alterna con otro trabajo y/o estudios           4    4100.0     medio   \n",
       "2               Solo trabaja como delivery           3    3890.0     medio   \n",
       "3    Alterna con otro trabajo y/o estudios           3    3300.0     medio   \n",
       "4    Alterna con otro trabajo y/o estudios           4    3750.0     medio   \n",
       "..                                     ...         ...       ...       ...   \n",
       "547  Alterna con otro trabajo y/o estudios           4    2095.0    minimo   \n",
       "548             Solo trabaja como delivery           1    1740.0    minimo   \n",
       "549  Alterna con otro trabajo y/o estudios           2    1765.0    minimo   \n",
       "550             Solo trabaja como delivery           1    3338.0     medio   \n",
       "551  Alterna con otro trabajo y/o estudios           4    3190.0     medio   \n",
       "\n",
       "      educacion     jefe    anterior              menores dependencia  \n",
       "0          Alto     jefe  asalariado              ninguno   Hasta dos  \n",
       "1          Alto  no jefe  asalariado              ninguno       Nadie  \n",
       "2    Secundario     jefe  asalariado  menores en el hogar  Mas de dos  \n",
       "3          Alto  no jefe  asalariado              ninguno       Nadie  \n",
       "4          Alto  no jefe  asalariado              ninguno       Nadie  \n",
       "..          ...      ...         ...                  ...         ...  \n",
       "547        Alto     jefe  asalariado              ninguno   Hasta dos  \n",
       "548  Secundario      NaN  asalariado              ninguno       Nadie  \n",
       "549        Alto      NaN  asalariado              ninguno       Nadie  \n",
       "550        Alto     jefe  asalariado              ninguno   Hasta dos  \n",
       "551        Alto     jefe         NaN  menores en el hogar   Hasta dos  \n",
       "\n",
       "[552 rows x 11 columns]"
      ]
     },
     "execution_count": 161,
     "metadata": {},
     "output_type": "execute_result"
    }
   ],
   "source": [
    "df2"
   ]
  },
  {
   "cell_type": "code",
   "execution_count": null,
   "id": "daedae56",
   "metadata": {},
   "outputs": [],
   "source": [
    "dff = df[['PrimeroTrabajo','anterior']]"
   ]
  },
  {
   "cell_type": "code",
   "execution_count": null,
   "id": "a7d25431",
   "metadata": {},
   "outputs": [
    {
     "data": {
      "text/html": [
       "<div>\n",
       "<style scoped>\n",
       "    .dataframe tbody tr th:only-of-type {\n",
       "        vertical-align: middle;\n",
       "    }\n",
       "\n",
       "    .dataframe tbody tr th {\n",
       "        vertical-align: top;\n",
       "    }\n",
       "\n",
       "    .dataframe thead th {\n",
       "        text-align: right;\n",
       "    }\n",
       "</style>\n",
       "<table border=\"1\" class=\"dataframe\">\n",
       "  <thead>\n",
       "    <tr style=\"text-align: right;\">\n",
       "      <th></th>\n",
       "      <th>PrimeroTrabajo</th>\n",
       "      <th>anterior</th>\n",
       "    </tr>\n",
       "  </thead>\n",
       "  <tbody>\n",
       "    <tr>\n",
       "      <th>0</th>\n",
       "      <td>Tenia Trabajo</td>\n",
       "      <td>asalariado</td>\n",
       "    </tr>\n",
       "    <tr>\n",
       "      <th>1</th>\n",
       "      <td>Tenia Trabajo</td>\n",
       "      <td>asalariado</td>\n",
       "    </tr>\n",
       "    <tr>\n",
       "      <th>2</th>\n",
       "      <td>Tenia Trabajo</td>\n",
       "      <td>asalariado</td>\n",
       "    </tr>\n",
       "    <tr>\n",
       "      <th>3</th>\n",
       "      <td>Tenia Trabajo</td>\n",
       "      <td>asalariado</td>\n",
       "    </tr>\n",
       "    <tr>\n",
       "      <th>4</th>\n",
       "      <td>Tenia Trabajo</td>\n",
       "      <td>asalariado</td>\n",
       "    </tr>\n",
       "    <tr>\n",
       "      <th>...</th>\n",
       "      <td>...</td>\n",
       "      <td>...</td>\n",
       "    </tr>\n",
       "    <tr>\n",
       "      <th>547</th>\n",
       "      <td>Tenia Trabajo</td>\n",
       "      <td>asalariado</td>\n",
       "    </tr>\n",
       "    <tr>\n",
       "      <th>548</th>\n",
       "      <td>Tenia Trabajo</td>\n",
       "      <td>asalariado</td>\n",
       "    </tr>\n",
       "    <tr>\n",
       "      <th>549</th>\n",
       "      <td>Tenia Trabajo</td>\n",
       "      <td>asalariado</td>\n",
       "    </tr>\n",
       "    <tr>\n",
       "      <th>550</th>\n",
       "      <td>Tenia Trabajo</td>\n",
       "      <td>asalariado</td>\n",
       "    </tr>\n",
       "    <tr>\n",
       "      <th>551</th>\n",
       "      <td>Primer trabajo</td>\n",
       "      <td>NaN</td>\n",
       "    </tr>\n",
       "  </tbody>\n",
       "</table>\n",
       "<p>552 rows × 2 columns</p>\n",
       "</div>"
      ],
      "text/plain": [
       "     PrimeroTrabajo    anterior\n",
       "0     Tenia Trabajo  asalariado\n",
       "1     Tenia Trabajo  asalariado\n",
       "2     Tenia Trabajo  asalariado\n",
       "3     Tenia Trabajo  asalariado\n",
       "4     Tenia Trabajo  asalariado\n",
       "..              ...         ...\n",
       "547   Tenia Trabajo  asalariado\n",
       "548   Tenia Trabajo  asalariado\n",
       "549   Tenia Trabajo  asalariado\n",
       "550   Tenia Trabajo  asalariado\n",
       "551  Primer trabajo         NaN\n",
       "\n",
       "[552 rows x 2 columns]"
      ]
     },
     "execution_count": 163,
     "metadata": {},
     "output_type": "execute_result"
    }
   ],
   "source": [
    "dff"
   ]
  },
  {
   "cell_type": "code",
   "execution_count": null,
   "id": "d0226643",
   "metadata": {},
   "outputs": [
    {
     "data": {
      "text/html": [
       "<div>\n",
       "<style scoped>\n",
       "    .dataframe tbody tr th:only-of-type {\n",
       "        vertical-align: middle;\n",
       "    }\n",
       "\n",
       "    .dataframe tbody tr th {\n",
       "        vertical-align: top;\n",
       "    }\n",
       "\n",
       "    .dataframe thead th {\n",
       "        text-align: right;\n",
       "    }\n",
       "</style>\n",
       "<table border=\"1\" class=\"dataframe\">\n",
       "  <thead>\n",
       "    <tr style=\"text-align: right;\">\n",
       "      <th></th>\n",
       "      <th>PrimeroTrabajo</th>\n",
       "      <th>anterior</th>\n",
       "    </tr>\n",
       "  </thead>\n",
       "  <tbody>\n",
       "    <tr>\n",
       "      <th>0</th>\n",
       "      <td>Tenia Trabajo</td>\n",
       "      <td>asalariado</td>\n",
       "    </tr>\n",
       "    <tr>\n",
       "      <th>1</th>\n",
       "      <td>Tenia Trabajo</td>\n",
       "      <td>asalariado</td>\n",
       "    </tr>\n",
       "    <tr>\n",
       "      <th>2</th>\n",
       "      <td>Tenia Trabajo</td>\n",
       "      <td>asalariado</td>\n",
       "    </tr>\n",
       "    <tr>\n",
       "      <th>3</th>\n",
       "      <td>Tenia Trabajo</td>\n",
       "      <td>asalariado</td>\n",
       "    </tr>\n",
       "    <tr>\n",
       "      <th>4</th>\n",
       "      <td>Tenia Trabajo</td>\n",
       "      <td>asalariado</td>\n",
       "    </tr>\n",
       "    <tr>\n",
       "      <th>...</th>\n",
       "      <td>...</td>\n",
       "      <td>...</td>\n",
       "    </tr>\n",
       "    <tr>\n",
       "      <th>546</th>\n",
       "      <td>Tenia Trabajo</td>\n",
       "      <td>no asalariado</td>\n",
       "    </tr>\n",
       "    <tr>\n",
       "      <th>547</th>\n",
       "      <td>Tenia Trabajo</td>\n",
       "      <td>asalariado</td>\n",
       "    </tr>\n",
       "    <tr>\n",
       "      <th>548</th>\n",
       "      <td>Tenia Trabajo</td>\n",
       "      <td>asalariado</td>\n",
       "    </tr>\n",
       "    <tr>\n",
       "      <th>549</th>\n",
       "      <td>Tenia Trabajo</td>\n",
       "      <td>asalariado</td>\n",
       "    </tr>\n",
       "    <tr>\n",
       "      <th>550</th>\n",
       "      <td>Tenia Trabajo</td>\n",
       "      <td>asalariado</td>\n",
       "    </tr>\n",
       "  </tbody>\n",
       "</table>\n",
       "<p>529 rows × 2 columns</p>\n",
       "</div>"
      ],
      "text/plain": [
       "    PrimeroTrabajo       anterior\n",
       "0    Tenia Trabajo     asalariado\n",
       "1    Tenia Trabajo     asalariado\n",
       "2    Tenia Trabajo     asalariado\n",
       "3    Tenia Trabajo     asalariado\n",
       "4    Tenia Trabajo     asalariado\n",
       "..             ...            ...\n",
       "546  Tenia Trabajo  no asalariado\n",
       "547  Tenia Trabajo     asalariado\n",
       "548  Tenia Trabajo     asalariado\n",
       "549  Tenia Trabajo     asalariado\n",
       "550  Tenia Trabajo     asalariado\n",
       "\n",
       "[529 rows x 2 columns]"
      ]
     },
     "execution_count": 164,
     "metadata": {},
     "output_type": "execute_result"
    }
   ],
   "source": [
    "dff=dff.dropna()\n",
    "dff"
   ]
  },
  {
   "cell_type": "code",
   "execution_count": null,
   "id": "5c04b8d4",
   "metadata": {},
   "outputs": [
    {
     "data": {
      "image/png": "[encoded data removed]",
      "text/plain": [
       "<Figure size 1000x600 with 1 Axes>"
      ]
     },
     "metadata": {},
     "output_type": "display_data"
    }
   ],
   "source": [
    "plt.figure(figsize=(10, 6))\n",
    "lista_con_elementos = ['84%', '16%']\n",
    "ax = sns.histplot(data=df, x='anterior',stat=\"percent\",shrink=0.5)\n",
    "\n",
    "plt.title('Primer trabajo del delivery')\n",
    "plt.xlabel(\"\")\n",
    "plt.ylabel(\"\")\n",
    "for i in range(len(lista_con_elementos)):\n",
    "    plt.annotate(\n",
    "        text=lista_con_elementos[i],\n",
    "        xy=(i, ax.patches[i].get_height()),  \n",
    "        xycoords='data',\n",
    "        fontsize=12,\n",
    "        ha='center', \n",
    "    \n",
    "    )\n",
    "\n",
    "plt.show()"
   ]
  },
  {
   "cell_type": "code",
   "execution_count": null,
   "id": "fe02bff2",
   "metadata": {},
   "outputs": [],
   "source": [
    "plt.figure(figsize=(10, 6))\n",
    "lista_con_elementos = ['84%', '16%']\n",
    "ax = sns.histplot(data=df, x='anterior',stat=\"percent\",shrink=0.5)\n",
    "\n",
    "plt.title('Primer trabajo del delivery')\n",
    "plt.xlabel(\"\")\n",
    "plt.ylabel(\"\")"
   ]
  },
  {
   "cell_type": "code",
   "execution_count": null,
   "id": "b9699a8b",
   "metadata": {},
   "outputs": [
    {
     "data": {
      "text/html": [
       "<div>\n",
       "<style scoped>\n",
       "    .dataframe tbody tr th:only-of-type {\n",
       "        vertical-align: middle;\n",
       "    }\n",
       "\n",
       "    .dataframe tbody tr th {\n",
       "        vertical-align: top;\n",
       "    }\n",
       "\n",
       "    .dataframe thead th {\n",
       "        text-align: right;\n",
       "    }\n",
       "</style>\n",
       "<table border=\"1\" class=\"dataframe\">\n",
       "  <thead>\n",
       "    <tr style=\"text-align: right;\">\n",
       "      <th></th>\n",
       "      <th>educacion</th>\n",
       "    </tr>\n",
       "  </thead>\n",
       "  <tbody>\n",
       "    <tr>\n",
       "      <th>0</th>\n",
       "      <td>Alto</td>\n",
       "    </tr>\n",
       "    <tr>\n",
       "      <th>1</th>\n",
       "      <td>Alto</td>\n",
       "    </tr>\n",
       "    <tr>\n",
       "      <th>2</th>\n",
       "      <td>Secundario</td>\n",
       "    </tr>\n",
       "    <tr>\n",
       "      <th>3</th>\n",
       "      <td>Alto</td>\n",
       "    </tr>\n",
       "    <tr>\n",
       "      <th>4</th>\n",
       "      <td>Alto</td>\n",
       "    </tr>\n",
       "    <tr>\n",
       "      <th>...</th>\n",
       "      <td>...</td>\n",
       "    </tr>\n",
       "    <tr>\n",
       "      <th>547</th>\n",
       "      <td>Alto</td>\n",
       "    </tr>\n",
       "    <tr>\n",
       "      <th>548</th>\n",
       "      <td>Secundario</td>\n",
       "    </tr>\n",
       "    <tr>\n",
       "      <th>549</th>\n",
       "      <td>Alto</td>\n",
       "    </tr>\n",
       "    <tr>\n",
       "      <th>550</th>\n",
       "      <td>Alto</td>\n",
       "    </tr>\n",
       "    <tr>\n",
       "      <th>551</th>\n",
       "      <td>Alto</td>\n",
       "    </tr>\n",
       "  </tbody>\n",
       "</table>\n",
       "<p>552 rows × 1 columns</p>\n",
       "</div>"
      ],
      "text/plain": [
       "      educacion\n",
       "0          Alto\n",
       "1          Alto\n",
       "2    Secundario\n",
       "3          Alto\n",
       "4          Alto\n",
       "..          ...\n",
       "547        Alto\n",
       "548  Secundario\n",
       "549        Alto\n",
       "550        Alto\n",
       "551        Alto\n",
       "\n",
       "[552 rows x 1 columns]"
      ]
     },
     "execution_count": 172,
     "metadata": {},
     "output_type": "execute_result"
    }
   ],
   "source": [
    "df2[['educacion']]"
   ]
  },
  {
   "cell_type": "code",
   "execution_count": null,
   "id": "d7f4a481",
   "metadata": {},
   "outputs": [
    {
     "data": {
      "image/png": "[encoded data removed]",
      "text/plain": [
       "<Figure size 1000x600 with 1 Axes>"
      ]
     },
     "metadata": {},
     "output_type": "display_data"
    }
   ],
   "source": [
    "plt.figure(figsize=(10, 6))\n",
    "lista_con_elementos = ['64%', '36%']\n",
    "ax = sns.histplot(data=df, x='educacion',stat=\"percent\",shrink=0.5)\n",
    "\n",
    "plt.title('Nivel estudio repartidores')\n",
    "plt.xlabel(\"\")\n",
    "plt.ylabel(\"\")\n",
    "for i in range(len(lista_con_elementos)):\n",
    "    plt.annotate(\n",
    "        text=lista_con_elementos[i],\n",
    "        xy=(i, ax.patches[i].get_height()),  \n",
    "        xycoords='data',\n",
    "        fontsize=12,\n",
    "        ha='center', \n",
    "    \n",
    "    )\n",
    "\n",
    "plt.show()"
   ]
  },
  {
   "cell_type": "code",
   "execution_count": null,
   "id": "1ab5025c",
   "metadata": {},
   "outputs": [
    {
     "data": {
      "text/html": [
       "<div>\n",
       "<style scoped>\n",
       "    .dataframe tbody tr th:only-of-type {\n",
       "        vertical-align: middle;\n",
       "    }\n",
       "\n",
       "    .dataframe tbody tr th {\n",
       "        vertical-align: top;\n",
       "    }\n",
       "\n",
       "    .dataframe thead th {\n",
       "        text-align: right;\n",
       "    }\n",
       "</style>\n",
       "<table border=\"1\" class=\"dataframe\">\n",
       "  <thead>\n",
       "    <tr style=\"text-align: right;\">\n",
       "      <th></th>\n",
       "      <th>dependencia</th>\n",
       "      <th>pluriactividad</th>\n",
       "    </tr>\n",
       "  </thead>\n",
       "  <tbody>\n",
       "    <tr>\n",
       "      <th>0</th>\n",
       "      <td>tiene dependientes</td>\n",
       "      <td>Alterna con otro trabajo y/o estudios</td>\n",
       "    </tr>\n",
       "    <tr>\n",
       "      <th>1</th>\n",
       "      <td>Nadie</td>\n",
       "      <td>Alterna con otro trabajo y/o estudios</td>\n",
       "    </tr>\n",
       "    <tr>\n",
       "      <th>2</th>\n",
       "      <td>tiene dependientes</td>\n",
       "      <td>Solo trabaja como delivery</td>\n",
       "    </tr>\n",
       "    <tr>\n",
       "      <th>3</th>\n",
       "      <td>Nadie</td>\n",
       "      <td>Alterna con otro trabajo y/o estudios</td>\n",
       "    </tr>\n",
       "    <tr>\n",
       "      <th>4</th>\n",
       "      <td>Nadie</td>\n",
       "      <td>Alterna con otro trabajo y/o estudios</td>\n",
       "    </tr>\n",
       "    <tr>\n",
       "      <th>...</th>\n",
       "      <td>...</td>\n",
       "      <td>...</td>\n",
       "    </tr>\n",
       "    <tr>\n",
       "      <th>547</th>\n",
       "      <td>tiene dependientes</td>\n",
       "      <td>Alterna con otro trabajo y/o estudios</td>\n",
       "    </tr>\n",
       "    <tr>\n",
       "      <th>548</th>\n",
       "      <td>Nadie</td>\n",
       "      <td>Solo trabaja como delivery</td>\n",
       "    </tr>\n",
       "    <tr>\n",
       "      <th>549</th>\n",
       "      <td>Nadie</td>\n",
       "      <td>Alterna con otro trabajo y/o estudios</td>\n",
       "    </tr>\n",
       "    <tr>\n",
       "      <th>550</th>\n",
       "      <td>tiene dependientes</td>\n",
       "      <td>Solo trabaja como delivery</td>\n",
       "    </tr>\n",
       "    <tr>\n",
       "      <th>551</th>\n",
       "      <td>tiene dependientes</td>\n",
       "      <td>Alterna con otro trabajo y/o estudios</td>\n",
       "    </tr>\n",
       "  </tbody>\n",
       "</table>\n",
       "<p>552 rows × 2 columns</p>\n",
       "</div>"
      ],
      "text/plain": [
       "            dependencia                         pluriactividad\n",
       "0    tiene dependientes  Alterna con otro trabajo y/o estudios\n",
       "1                 Nadie  Alterna con otro trabajo y/o estudios\n",
       "2    tiene dependientes             Solo trabaja como delivery\n",
       "3                 Nadie  Alterna con otro trabajo y/o estudios\n",
       "4                 Nadie  Alterna con otro trabajo y/o estudios\n",
       "..                  ...                                    ...\n",
       "547  tiene dependientes  Alterna con otro trabajo y/o estudios\n",
       "548               Nadie             Solo trabaja como delivery\n",
       "549               Nadie  Alterna con otro trabajo y/o estudios\n",
       "550  tiene dependientes             Solo trabaja como delivery\n",
       "551  tiene dependientes  Alterna con otro trabajo y/o estudios\n",
       "\n",
       "[552 rows x 2 columns]"
      ]
     },
     "execution_count": 217,
     "metadata": {},
     "output_type": "execute_result"
    }
   ],
   "source": [
    "df2[['dependencia','pluriactividad']]"
   ]
  },
  {
   "cell_type": "code",
   "execution_count": null,
   "id": "e4f49356",
   "metadata": {
    "scrolled": true
   },
   "outputs": [
    {
     "data": {
      "text/plain": [
       "tiene dependientes    338\n",
       "Nadie                 214\n",
       "Name: dependencia, dtype: int64"
      ]
     },
     "execution_count": 246,
     "metadata": {},
     "output_type": "execute_result"
    }
   ],
   "source": [
    "df2['dependencia'].value_counts()"
   ]
  },
  {
   "cell_type": "code",
   "execution_count": null,
   "id": "a0f4a174",
   "metadata": {},
   "outputs": [],
   "source": [
    "def j(dependencia):\n",
    "    if dependencia == 'Nadie':\n",
    "        return 'Nadie'\n",
    "    else:\n",
    "        return np.nan\n"
   ]
  },
  {
   "cell_type": "code",
   "execution_count": null,
   "id": "9ddbedcf",
   "metadata": {},
   "outputs": [
    {
     "name": "stderr",
     "output_type": "stream",
     "text": [
      "C:\\Users\\CAleman\\AppData\\Local\\Temp\\ipykernel_12848\\4003668377.py:1: SettingWithCopyWarning: \n",
      "A value is trying to be set on a copy of a slice from a DataFrame.\n",
      "Try using .loc[row_indexer,col_indexer] = value instead\n",
      "\n",
      "See the caveats in the documentation: https://pandas.pydata.org/pandas-docs/stable/user_guide/indexing.html#returning-a-view-versus-a-copy\n",
      "  df2['dependencia'] = df2['dependencia'].apply(j)\n"
     ]
    }
   ],
   "source": [
    "df2['dependencia'] = df2['dependencia'].apply(j)"
   ]
  },
  {
   "cell_type": "code",
   "execution_count": null,
   "id": "658716fb",
   "metadata": {},
   "outputs": [
    {
     "data": {
      "text/plain": [
       "0        NaN\n",
       "1      Nadie\n",
       "2        NaN\n",
       "3      Nadie\n",
       "4      Nadie\n",
       "       ...  \n",
       "547      NaN\n",
       "548    Nadie\n",
       "549    Nadie\n",
       "550      NaN\n",
       "551      NaN\n",
       "Name: dependencia, Length: 552, dtype: object"
      ]
     },
     "execution_count": 277,
     "metadata": {},
     "output_type": "execute_result"
    }
   ],
   "source": [
    "df2['dependencia']"
   ]
  },
  {
   "cell_type": "code",
   "execution_count": null,
   "id": "446ee1f2",
   "metadata": {},
   "outputs": [
    {
     "data": {
      "text/plain": [
       "dependencia  pluriactividad                       \n",
       "Nadie        Alterna con otro trabajo y/o estudios    151\n",
       "             Solo trabaja como delivery                63\n",
       "dtype: int64"
      ]
     },
     "execution_count": 278,
     "metadata": {},
     "output_type": "execute_result"
    }
   ],
   "source": [
    "df3=df2[['dependencia','pluriactividad']]\n",
    "df3\n",
    "\n",
    "df3.value_counts()"
   ]
  },
  {
   "cell_type": "code",
   "execution_count": null,
   "id": "aea10036",
   "metadata": {},
   "outputs": [
    {
     "name": "stderr",
     "output_type": "stream",
     "text": [
      "C:\\Users\\CAleman\\AppData\\Local\\Temp\\ipykernel_12848\\1665326329.py:1: SettingWithCopyWarning: \n",
      "A value is trying to be set on a copy of a slice from a DataFrame\n",
      "\n",
      "See the caveats in the documentation: https://pandas.pydata.org/pandas-docs/stable/user_guide/indexing.html#returning-a-view-versus-a-copy\n",
      "  df3.dropna(inplace=True)\n"
     ]
    }
   ],
   "source": [
    "df3.dropna(inplace=True)"
   ]
  },
  {
   "cell_type": "code",
   "execution_count": null,
   "id": "0f22e5da",
   "metadata": {},
   "outputs": [
    {
     "data": {
      "text/plain": [
       "dependencia  pluriactividad                       \n",
       "Nadie        Alterna con otro trabajo y/o estudios    151\n",
       "             Solo trabaja como delivery                63\n",
       "dtype: int64"
      ]
     },
     "execution_count": 269,
     "metadata": {},
     "output_type": "execute_result"
    }
   ],
   "source": [
    "\n",
    "df3.value_counts()"
   ]
  },
  {
   "cell_type": "code",
   "execution_count": null,
   "id": "0c3b466e",
   "metadata": {},
   "outputs": [],
   "source": [
    "mising = df3.isnull().sum()"
   ]
  },
  {
   "cell_type": "code",
   "execution_count": null,
   "id": "96a962e1",
   "metadata": {},
   "outputs": [
    {
     "name": "stdout",
     "output_type": "stream",
     "text": [
      "dependencia       0\n",
      "pluriactividad    0\n",
      "dtype: int64\n"
     ]
    }
   ],
   "source": [
    "print(mising)"
   ]
  },
  {
   "cell_type": "code",
   "execution_count": null,
   "id": "6831303b",
   "metadata": {},
   "outputs": [
    {
     "data": {
      "image/png": "[encoded data removed]",
      "text/plain": [
       "<Figure size 1000x600 with 1 Axes>"
      ]
     },
     "metadata": {},
     "output_type": "display_data"
    }
   ],
   "source": [
    "plt.figure(figsize=(10, 6))\n",
    "lista_con_elementos = ['62%', '48%']\n",
    "ax = sns.histplot(data=df3, x='pluriactividad',stat=\"percent\",shrink=0.5)\n",
    "\n",
    "plt.title('Nivel estudio repartidores')\n",
    "plt.xlabel(\"\")\n",
    "plt.ylabel(\"\")\n",
    "for i in range(len(lista_con_elementos)):\n",
    "    plt.annotate(\n",
    "        text=lista_con_elementos[i],\n",
    "        xy=(i, ax.patches[i].get_height()),  \n",
    "        xycoords='data',\n",
    "        fontsize=12,\n",
    "        ha='center', \n",
    "    \n",
    "    )\n",
    "\n",
    "plt.show()"
   ]
  },
  {
   "cell_type": "code",
   "execution_count": null,
   "id": "8f78d647",
   "metadata": {},
   "outputs": [
    {
     "data": {
      "text/plain": [
       "dependencia  pluriactividad                       \n",
       "Nadie        Alterna con otro trabajo y/o estudios    151\n",
       "             Solo trabaja como delivery                63\n",
       "dtype: int64"
      ]
     },
     "execution_count": 275,
     "metadata": {},
     "output_type": "execute_result"
    }
   ],
   "source": [
    "\n",
    "df3.value_counts()"
   ]
  },
  {
   "cell_type": "code",
   "execution_count": null,
   "id": "eb6e20ef",
   "metadata": {},
   "outputs": [],
   "source": []
  }
 ],
 "metadata": {
  "kernelspec": {
   "display_name": "Python 3 (ipykernel)",
   "language": "python",
   "name": "python3"
  },
  "language_info": {
   "codemirror_mode": {
    "name": "ipython",
    "version": 3
   },
   "file_extension": ".py",
   "mimetype": "text/x-python",
   "name": "python",
   "nbconvert_exporter": "python",
   "pygments_lexer": "ipython3",
   "version": "3.10.11"
  }
 },
 "nbformat": 4,
 "nbformat_minor": 5
}

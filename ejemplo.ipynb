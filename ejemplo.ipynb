import pandas as pd
import streamlit as st
st.set_page_config(page_title="Encueta Motocqueros")
st.header('Resultados Encuesta a Motoxcoqueres')
st.shiheader ('Como reciben')
df = pd.read_spss("BaseFinal.sav")
